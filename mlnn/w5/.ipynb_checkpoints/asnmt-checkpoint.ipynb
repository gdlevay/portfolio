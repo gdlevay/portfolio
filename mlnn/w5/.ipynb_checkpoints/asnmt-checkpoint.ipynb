{
 "cells": [
  {
   "cell_type": "markdown",
   "metadata": {},
   "source": [
    "# Assignment 5\n",
    "\n",
    "1. Choose a regression dataset (bikeshare is allowed), perform a test/train split, and build a regression model (just like in assingnment 3), and calculate the \n",
    "    + Training Error (MSE, MAE)\n",
    "    + Testing Error (MSE, MAE)\n",
    "2. Choose a classification dataset (not the adult.data set, The UCI repository has many datasets as well as Kaggle), perform test/train split and create a classification model (your choice but DecisionTree is fine). Calculate \n",
    "    + Accuracy\n",
    "    + Confusion Matrix\n",
    "    + Classifcation Report\n",
    "    \n",
    "3. (Bonus) See if you can improve the classification model's performance with any tricks you can think of (modify features, remove features, polynomial features)"
   ]
  },
  {
   "cell_type": "code",
   "execution_count": 1,
   "metadata": {},
   "outputs": [],
   "source": [
    "import os\n",
    "from sklearn import linear_model\n",
    "from sklearn import metrics\n",
    "from sklearn.model_selection import train_test_split\n",
    "from sklearn import preprocessing\n",
    "from sklearn.tree import DecisionTreeClassifier\n",
    "import pandas as pd\n",
    "%matplotlib inline\n",
    "import matplotlib.pyplot as plt\n",
    "import numpy as np\n",
    "plt.rcParams['figure.figsize'] = [10, 5]"
   ]
  },
  {
   "cell_type": "code",
   "execution_count": 2,
   "metadata": {},
   "outputs": [],
   "source": [
    "qb_df_orig = pd.read_csv(\"./nfl/Game_Logs_Quarterback.csv\")"
   ]
  },
  {
   "cell_type": "code",
   "execution_count": 3,
   "metadata": {},
   "outputs": [
    {
     "data": {
      "text/plain": [
       "Index(['Player Id', 'Name', 'Position', 'Year', 'Season', 'Week', 'Game Date',\n",
       "       'Home or Away', 'Opponent', 'Outcome', 'Score', 'Games Played',\n",
       "       'Games Started', 'Passes Completed', 'Passes Attempted',\n",
       "       'Completion Percentage', 'Passing Yards', 'Passing Yards Per Attempt',\n",
       "       'TD Passes', 'Ints', 'Sacks', 'Sacked Yards Lost', 'Passer Rating',\n",
       "       'Rushing Attempts', 'Rushing Yards', 'Yards Per Carry', 'Rushing TDs',\n",
       "       'Fumbles', 'Fumbles Lost'],\n",
       "      dtype='object')"
      ]
     },
     "execution_count": 3,
     "metadata": {},
     "output_type": "execute_result"
    }
   ],
   "source": [
    "qb_df_orig.columns"
   ]
  },
  {
   "cell_type": "code",
   "execution_count": 4,
   "metadata": {},
   "outputs": [],
   "source": [
    "qb_df = qb_df_orig[[\"Week\",\"Year\", \"Outcome\", \"Passing Yards Per Attempt\", \"TD Passes\"]].copy()\n",
    "qb_df[[\"Passing Yards Per Attempt\", \"TD Passes\"]] = qb_df[[\"Passing Yards Per Attempt\",\"TD Passes\"]].apply(pd.to_numeric, errors = \"coerce\")"
   ]
  },
  {
   "cell_type": "code",
   "execution_count": 5,
   "metadata": {},
   "outputs": [],
   "source": [
    "qb_df[[\"Passing Yards Per Attempt\", \"TD Passes\"]] = qb_df[[\"Passing Yards Per Attempt\", \"TD Passes\"]].fillna(0)"
   ]
  },
  {
   "cell_type": "code",
   "execution_count": 6,
   "metadata": {},
   "outputs": [],
   "source": [
    "qb_df = qb_df.groupby([\"Week\", \"Year\", \"Outcome\"]).sum().reset_index()"
   ]
  },
  {
   "cell_type": "code",
   "execution_count": 7,
   "metadata": {},
   "outputs": [],
   "source": [
    "qb_df = qb_df.rename(columns = {\"Passing Yards Per Attempt\": \"PYPA\", \"TD Passes\": \"TDP\"})"
   ]
  },
  {
   "cell_type": "code",
   "execution_count": 8,
   "metadata": {},
   "outputs": [],
   "source": [
    "qb_df = qb_df[(qb_df.Year >= 2000) & (qb_df.TDP >= 2)]"
   ]
  },
  {
   "cell_type": "code",
   "execution_count": 9,
   "metadata": {
    "scrolled": false
   },
   "outputs": [
    {
     "data": {
      "text/html": [
       "<div>\n",
       "<style scoped>\n",
       "    .dataframe tbody tr th:only-of-type {\n",
       "        vertical-align: middle;\n",
       "    }\n",
       "\n",
       "    .dataframe tbody tr th {\n",
       "        vertical-align: top;\n",
       "    }\n",
       "\n",
       "    .dataframe thead th {\n",
       "        text-align: right;\n",
       "    }\n",
       "</style>\n",
       "<table border=\"1\" class=\"dataframe\">\n",
       "  <thead>\n",
       "    <tr style=\"text-align: right;\">\n",
       "      <th></th>\n",
       "      <th>Week</th>\n",
       "      <th>Year</th>\n",
       "      <th>PYPA</th>\n",
       "      <th>TDP</th>\n",
       "    </tr>\n",
       "  </thead>\n",
       "  <tbody>\n",
       "    <tr>\n",
       "      <th>count</th>\n",
       "      <td>699.000000</td>\n",
       "      <td>699.000000</td>\n",
       "      <td>699.000000</td>\n",
       "      <td>699.000000</td>\n",
       "    </tr>\n",
       "    <tr>\n",
       "      <th>mean</th>\n",
       "      <td>10.726753</td>\n",
       "      <td>2008.128755</td>\n",
       "      <td>106.322890</td>\n",
       "      <td>15.851216</td>\n",
       "    </tr>\n",
       "    <tr>\n",
       "      <th>std</th>\n",
       "      <td>6.014406</td>\n",
       "      <td>4.893187</td>\n",
       "      <td>90.893926</td>\n",
       "      <td>10.494133</td>\n",
       "    </tr>\n",
       "    <tr>\n",
       "      <th>min</th>\n",
       "      <td>0.000000</td>\n",
       "      <td>2000.000000</td>\n",
       "      <td>6.200000</td>\n",
       "      <td>2.000000</td>\n",
       "    </tr>\n",
       "    <tr>\n",
       "      <th>25%</th>\n",
       "      <td>6.000000</td>\n",
       "      <td>2004.000000</td>\n",
       "      <td>57.800000</td>\n",
       "      <td>8.000000</td>\n",
       "    </tr>\n",
       "    <tr>\n",
       "      <th>50%</th>\n",
       "      <td>11.000000</td>\n",
       "      <td>2008.000000</td>\n",
       "      <td>83.100000</td>\n",
       "      <td>14.000000</td>\n",
       "    </tr>\n",
       "    <tr>\n",
       "      <th>75%</th>\n",
       "      <td>16.000000</td>\n",
       "      <td>2012.000000</td>\n",
       "      <td>111.150000</td>\n",
       "      <td>22.000000</td>\n",
       "    </tr>\n",
       "    <tr>\n",
       "      <th>max</th>\n",
       "      <td>22.000000</td>\n",
       "      <td>2016.000000</td>\n",
       "      <td>455.200000</td>\n",
       "      <td>54.000000</td>\n",
       "    </tr>\n",
       "  </tbody>\n",
       "</table>\n",
       "</div>"
      ],
      "text/plain": [
       "             Week         Year        PYPA         TDP\n",
       "count  699.000000   699.000000  699.000000  699.000000\n",
       "mean    10.726753  2008.128755  106.322890   15.851216\n",
       "std      6.014406     4.893187   90.893926   10.494133\n",
       "min      0.000000  2000.000000    6.200000    2.000000\n",
       "25%      6.000000  2004.000000   57.800000    8.000000\n",
       "50%     11.000000  2008.000000   83.100000   14.000000\n",
       "75%     16.000000  2012.000000  111.150000   22.000000\n",
       "max     22.000000  2016.000000  455.200000   54.000000"
      ]
     },
     "execution_count": 9,
     "metadata": {},
     "output_type": "execute_result"
    }
   ],
   "source": [
    "qb_df.describe()"
   ]
  },
  {
   "cell_type": "code",
   "execution_count": 10,
   "metadata": {},
   "outputs": [],
   "source": [
    "X = qb_df.PYPA.values.reshape(-1,1)\n",
    "Y = qb_df.TDP.values.reshape(-1,1)"
   ]
  },
  {
   "cell_type": "code",
   "execution_count": 11,
   "metadata": {},
   "outputs": [],
   "source": [
    "X_train, X_test, y_train, y_test = train_test_split(X, Y, train_size = 0.8)"
   ]
  },
  {
   "cell_type": "markdown",
   "metadata": {},
   "source": [
    "# Regression Model (Ridge)"
   ]
  },
  {
   "cell_type": "code",
   "execution_count": 12,
   "metadata": {
    "scrolled": false
   },
   "outputs": [
    {
     "data": {
      "text/plain": [
       "Ridge()"
      ]
     },
     "execution_count": 12,
     "metadata": {},
     "output_type": "execute_result"
    }
   ],
   "source": [
    "model = linear_model.Ridge()\n",
    "model.fit(X_train, y_train)"
   ]
  },
  {
   "cell_type": "code",
   "execution_count": 13,
   "metadata": {
    "scrolled": false
   },
   "outputs": [
    {
     "data": {
      "text/plain": [
       "<matplotlib.legend.Legend at 0x26e19dd70a0>"
      ]
     },
     "execution_count": 13,
     "metadata": {},
     "output_type": "execute_result"
    },
    {
     "data": {
      "image/png": "[encoded data removed]",
      "text/plain": [
       "<Figure size 720x360 with 1 Axes>"
      ]
     },
     "metadata": {
      "needs_background": "light"
     },
     "output_type": "display_data"
    }
   ],
   "source": [
    "plt.scatter(qb_df.PYPA[qb_df.Outcome == \"W\"], qb_df.TDP[qb_df.Outcome == \"W\"], c = \"blue\", label = \"W\")\n",
    "plt.scatter(qb_df.PYPA[qb_df.Outcome == \"L\"], qb_df.TDP[qb_df.Outcome == \"L\"], c = \"red\", label = \"L\")\n",
    "plt.plot(X, np.dot(X, model.coef_) + model.intercept_, c = \"black\", linestyle = \"dotted\")\n",
    "plt.xlabel(\"Passing Yards Per Attempt\")\n",
    "plt.ylabel(\"Touchdown Passes\")\n",
    "plt.suptitle(\"Touchdown Passes vs. Passing Yards Per Attempt\")\n",
    "plt.title(\"With Regression Line\")\n",
    "plt.legend([\"Win\", \"Loss\"])"
   ]
  },
  {
   "cell_type": "code",
   "execution_count": 14,
   "metadata": {},
   "outputs": [],
   "source": [
    "error_dict = {\n",
    "    \"MSE_Train\": [X_train, y_train],\n",
    "    \"MAE_Train\": [X_train, y_train],\n",
    "    \"MSE_Test\": [X_test, y_test],\n",
    "    \"MAE_Test\": [X_test, y_test]    \n",
    "}"
   ]
  },
  {
   "cell_type": "code",
   "execution_count": 15,
   "metadata": {},
   "outputs": [
    {
     "name": "stdout",
     "output_type": "stream",
     "text": [
      "MSE_Train: 34.8994 \n",
      "\n",
      "MAE_Train: 4.6812 \n",
      "\n",
      "MSE_Test: 33.0950 \n",
      "\n",
      "MAE_Test: 4.5392 \n",
      "\n"
     ]
    }
   ],
   "source": [
    "for name, data in error_dict.items():\n",
    "    if \"MSE\" in name:\n",
    "        err = metrics.mean_squared_error(data[1], np.dot(data[0], model.coef_) + model.intercept_)\n",
    "    else:\n",
    "        err = metrics.mean_absolute_error(data[1], np.dot(data[0], model.coef_) + model.intercept_)\n",
    "    print(f\"{name}: {err:.4f} \\n\")"
   ]
  },
  {
   "cell_type": "markdown",
   "metadata": {},
   "source": [
    "# Classification Model (Decision Tree)"
   ]
  },
  {
   "cell_type": "code",
   "execution_count": 16,
   "metadata": {},
   "outputs": [],
   "source": [
    "qb_df = qb_df_orig[[\"Player Id\",\"Outcome\",\"Year\",\"Week\", \"Passes Completed\", \"Passes Attempted\", \"Passing Yards\", \"Passing Yards Per Attempt\", \"TD Passes\", \"Ints\", \"Sacks\", \"Sacked Yards Lost\",\"Rushing Attempts\", \"Rushing Yards\", \"Yards Per Carry\", \"Rushing TDs\", \"Fumbles\"]].copy()"
   ]
  },
  {
   "cell_type": "code",
   "execution_count": 17,
   "metadata": {},
   "outputs": [],
   "source": [
    "qb_df[[\"Passes Completed\",\n",
    "       \"Passes Attempted\",\n",
    "       \"Passing Yards\",\n",
    "       \"Passing Yards Per Attempt\",\n",
    "       \"TD Passes\",\n",
    "       \"Ints\",\n",
    "       \"Sacks\",\n",
    "       \"Sacked Yards Lost\",\n",
    "       \"Rushing Attempts\",\n",
    "       \"Rushing Yards\",\n",
    "       \"Yards Per Carry\",\n",
    "       \"Rushing TDs\",\n",
    "       \"Fumbles\"]] = qb_df[[\"Passes Completed\",\n",
    "                            \"Passes Attempted\",\n",
    "                            \"Passing Yards\",\n",
    "                            \"Passing Yards Per Attempt\",\n",
    "                            \"TD Passes\",\n",
    "                            \"Ints\",\n",
    "                            \"Sacks\",\n",
    "                            \"Sacked Yards Lost\",\n",
    "                            \"Rushing Attempts\",\n",
    "                            \"Rushing Yards\",\n",
    "                            \"Yards Per Carry\",\n",
    "                            \"Rushing TDs\",\n",
    "                            \"Fumbles\"]].apply(pd.to_numeric, errors = \"coerce\")"
   ]
  },
  {
   "cell_type": "code",
   "execution_count": 18,
   "metadata": {},
   "outputs": [],
   "source": [
    "qb_df = qb_df.fillna(0)\n",
    "qb_df = qb_df[(qb_df.Year >= 2000) & (qb_df.Outcome != \"T\")]"
   ]
  },
  {
   "cell_type": "code",
   "execution_count": 19,
   "metadata": {},
   "outputs": [],
   "source": [
    "df = qb_df.groupby([\"Year\",\"Player Id\", \"Week\", \"Outcome\"]).sum().reset_index()"
   ]
  },
  {
   "cell_type": "code",
   "execution_count": 20,
   "metadata": {},
   "outputs": [],
   "source": [
    "X = qb_df.drop([\"Year\",\"Player Id\", \"Week\", \"Outcome\"], axis = 1)\n",
    "y = qb_df[\"Outcome\"]"
   ]
  },
  {
   "cell_type": "code",
   "execution_count": 21,
   "metadata": {},
   "outputs": [],
   "source": [
    "X_train, X_test, y_train, y_test = train_test_split(X,y, train_size = 0.8)"
   ]
  },
  {
   "cell_type": "code",
   "execution_count": 22,
   "metadata": {},
   "outputs": [],
   "source": [
    "orig_model = DecisionTreeClassifier(criterion = \"entropy\")"
   ]
  },
  {
   "cell_type": "code",
   "execution_count": 23,
   "metadata": {
    "scrolled": true
   },
   "outputs": [
    {
     "data": {
      "text/plain": [
       "DecisionTreeClassifier(criterion='entropy')"
      ]
     },
     "execution_count": 23,
     "metadata": {},
     "output_type": "execute_result"
    }
   ],
   "source": [
    "orig_model.fit(X_train, y_train)"
   ]
  },
  {
   "cell_type": "code",
   "execution_count": 24,
   "metadata": {},
   "outputs": [],
   "source": [
    "predictions = orig_model.predict(X_test)"
   ]
  },
  {
   "cell_type": "code",
   "execution_count": 25,
   "metadata": {},
   "outputs": [
    {
     "name": "stdout",
     "output_type": "stream",
     "text": [
      "Accuracy Score: 55.4407%\n",
      "[[1635  429]\n",
      " [1467  724]]\n",
      "              precision    recall  f1-score   support\n",
      "\n",
      "           L       0.53      0.79      0.63      2064\n",
      "           W       0.63      0.33      0.43      2191\n",
      "\n",
      "    accuracy                           0.55      4255\n",
      "   macro avg       0.58      0.56      0.53      4255\n",
      "weighted avg       0.58      0.55      0.53      4255\n",
      "\n"
     ]
    }
   ],
   "source": [
    "print(f\"Accuracy Score: {metrics.accuracy_score(y_test, predictions) * 100:.4f}%\")\n",
    "print(metrics.confusion_matrix(y_test, predictions))\n",
    "print(metrics.classification_report(y_test, predictions))"
   ]
  },
  {
   "cell_type": "markdown",
   "metadata": {},
   "source": [
    "### Improve Model By Removing Outliers"
   ]
  },
  {
   "cell_type": "code",
   "execution_count": 26,
   "metadata": {},
   "outputs": [],
   "source": [
    "index_feats = [\"Outcome\", \"Player Id\",\"Year\",\"Week\"]\n",
    "included_feats = list(X_train.columns)"
   ]
  },
  {
   "cell_type": "code",
   "execution_count": 27,
   "metadata": {
    "scrolled": true
   },
   "outputs": [
    {
     "data": {
      "text/plain": [
       "['Passes Completed',\n",
       " 'Passes Attempted',\n",
       " 'Passing Yards',\n",
       " 'Passing Yards Per Attempt',\n",
       " 'TD Passes',\n",
       " 'Ints',\n",
       " 'Sacks',\n",
       " 'Sacked Yards Lost',\n",
       " 'Rushing Attempts',\n",
       " 'Rushing Yards',\n",
       " 'Yards Per Carry',\n",
       " 'Rushing TDs',\n",
       " 'Fumbles']"
      ]
     },
     "execution_count": 27,
     "metadata": {},
     "output_type": "execute_result"
    }
   ],
   "source": [
    "included_feats"
   ]
  },
  {
   "cell_type": "code",
   "execution_count": 28,
   "metadata": {},
   "outputs": [],
   "source": [
    "qb_df = qb_df_orig[index_feats + included_feats].copy()"
   ]
  },
  {
   "cell_type": "code",
   "execution_count": 29,
   "metadata": {},
   "outputs": [],
   "source": [
    "qb_df[included_feats] = qb_df[included_feats].apply(pd.to_numeric, errors = \"coerce\")\n",
    "qb_df = qb_df.dropna()\n",
    "qb_df = qb_df[(qb_df.Year >= 2000) & (qb_df.Outcome != \"T\")]\n",
    "qb_df = qb_df[(qb_df[\"Passing Yards\"].between(50,300))]"
   ]
  },
  {
   "cell_type": "code",
   "execution_count": 30,
   "metadata": {},
   "outputs": [],
   "source": [
    "scaler = preprocessing.StandardScaler()\n",
    "\n",
    "qb_df[included_feats] = scaler.fit_transform(qb_df[included_feats])"
   ]
  },
  {
   "cell_type": "code",
   "execution_count": 31,
   "metadata": {
    "scrolled": true
   },
   "outputs": [],
   "source": [
    "df = qb_df\n",
    "X = df.drop(index_feats, axis = 1)\n",
    "y = df[\"Outcome\"]"
   ]
  },
  {
   "cell_type": "code",
   "execution_count": 32,
   "metadata": {},
   "outputs": [],
   "source": [
    "X_train, X_test, y_train, y_test = train_test_split(X,y, train_size = 0.8)"
   ]
  },
  {
   "cell_type": "code",
   "execution_count": 33,
   "metadata": {},
   "outputs": [],
   "source": [
    "model = DecisionTreeClassifier(criterion = \"entropy\", max_depth = 9, min_samples_leaf = 42)"
   ]
  },
  {
   "cell_type": "code",
   "execution_count": 34,
   "metadata": {
    "scrolled": true
   },
   "outputs": [
    {
     "data": {
      "text/plain": [
       "DecisionTreeClassifier(criterion='entropy', max_depth=9, min_samples_leaf=42)"
      ]
     },
     "execution_count": 34,
     "metadata": {},
     "output_type": "execute_result"
    }
   ],
   "source": [
    "model.fit(X_train, y_train)"
   ]
  },
  {
   "cell_type": "code",
   "execution_count": 35,
   "metadata": {},
   "outputs": [],
   "source": [
    "predictions = model.predict(X_test)"
   ]
  },
  {
   "cell_type": "code",
   "execution_count": 36,
   "metadata": {},
   "outputs": [
    {
     "name": "stdout",
     "output_type": "stream",
     "text": [
      "Accuracy Score: 70.1944%\n",
      "[[209  53]\n",
      " [ 85 116]]\n",
      "              precision    recall  f1-score   support\n",
      "\n",
      "           L       0.71      0.80      0.75       262\n",
      "           W       0.69      0.58      0.63       201\n",
      "\n",
      "    accuracy                           0.70       463\n",
      "   macro avg       0.70      0.69      0.69       463\n",
      "weighted avg       0.70      0.70      0.70       463\n",
      "\n"
     ]
    }
   ],
   "source": [
    "print(f\"Accuracy Score: {metrics.accuracy_score(y_test, predictions) * 100:.4f}%\")\n",
    "print(metrics.confusion_matrix(y_test, predictions))\n",
    "print(metrics.classification_report(y_test, predictions))"
   ]
  },
  {
   "cell_type": "code",
   "execution_count": null,
   "metadata": {},
   "outputs": [],
   "source": []
  },
  {
   "cell_type": "code",
   "execution_count": null,
   "metadata": {},
   "outputs": [],
   "source": []
  }
 ],
 "metadata": {
  "kernelspec": {
   "display_name": "Python 3 (ipykernel)",
   "language": "python",
   "name": "python3"
  },
  "language_info": {
   "codemirror_mode": {
    "name": "ipython",
    "version": 3
   },
   "file_extension": ".py",
   "mimetype": "text/x-python",
   "name": "python",
   "nbconvert_exporter": "python",
   "pygments_lexer": "ipython3",
   "version": "3.9.12"
  }
 },
 "nbformat": 4,
 "nbformat_minor": 2
}
