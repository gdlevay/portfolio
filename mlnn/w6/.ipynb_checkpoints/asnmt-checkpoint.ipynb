{
 "cells": [
  {
   "cell_type": "markdown",
   "metadata": {},
   "source": [
    "# Assignment is below at the end"
   ]
  },
  {
   "cell_type": "markdown",
   "metadata": {},
   "source": [
    "- https://scikit-learn.org/stable/modules/tree.html\n",
    "- https://scikit-learn.org/stable/modules/generated/sklearn.tree.DecisionTreeClassifier.html\n",
    "- https://scikit-learn.org/stable/modules/generated/sklearn.tree.plot_tree.html"
   ]
  },
  {
   "cell_type": "code",
   "execution_count": 1,
   "metadata": {},
   "outputs": [],
   "source": [
    "import seaborn as sns\n",
    "import matplotlib.pyplot as plt\n",
    "%matplotlib inline\n",
    "plt.rcParams['figure.figsize'] = (20, 6)\n",
    "plt.rcParams['font.size'] = 14\n",
    "import pandas as pd"
   ]
  },
  {
   "cell_type": "code",
   "execution_count": 2,
   "metadata": {},
   "outputs": [],
   "source": [
    "df = pd.read_csv('../data/adult.data', index_col=False)"
   ]
  },
  {
   "cell_type": "code",
   "execution_count": 3,
   "metadata": {},
   "outputs": [],
   "source": [
    "golden = pd.read_csv('../data/adult.test', index_col=False)"
   ]
  },
  {
   "cell_type": "code",
   "execution_count": 4,
   "metadata": {},
   "outputs": [
    {
     "data": {
      "text/html": [
       "<div>\n",
       "<style scoped>\n",
       "    .dataframe tbody tr th:only-of-type {\n",
       "        vertical-align: middle;\n",
       "    }\n",
       "\n",
       "    .dataframe tbody tr th {\n",
       "        vertical-align: top;\n",
       "    }\n",
       "\n",
       "    .dataframe thead th {\n",
       "        text-align: right;\n",
       "    }\n",
       "</style>\n",
       "<table border=\"1\" class=\"dataframe\">\n",
       "  <thead>\n",
       "    <tr style=\"text-align: right;\">\n",
       "      <th></th>\n",
       "      <th>age</th>\n",
       "      <th>workclass</th>\n",
       "      <th>fnlwgt</th>\n",
       "      <th>education</th>\n",
       "      <th>education-num</th>\n",
       "      <th>marital-status</th>\n",
       "      <th>occupation</th>\n",
       "      <th>relationship</th>\n",
       "      <th>race</th>\n",
       "      <th>sex</th>\n",
       "      <th>capital-gain</th>\n",
       "      <th>capital-loss</th>\n",
       "      <th>hours-per-week</th>\n",
       "      <th>native-country</th>\n",
       "      <th>salary</th>\n",
       "    </tr>\n",
       "  </thead>\n",
       "  <tbody>\n",
       "    <tr>\n",
       "      <th>0</th>\n",
       "      <td>25</td>\n",
       "      <td>Private</td>\n",
       "      <td>226802</td>\n",
       "      <td>11th</td>\n",
       "      <td>7</td>\n",
       "      <td>Never-married</td>\n",
       "      <td>Machine-op-inspct</td>\n",
       "      <td>Own-child</td>\n",
       "      <td>Black</td>\n",
       "      <td>Male</td>\n",
       "      <td>0</td>\n",
       "      <td>0</td>\n",
       "      <td>40</td>\n",
       "      <td>United-States</td>\n",
       "      <td>&lt;=50K.</td>\n",
       "    </tr>\n",
       "    <tr>\n",
       "      <th>1</th>\n",
       "      <td>38</td>\n",
       "      <td>Private</td>\n",
       "      <td>89814</td>\n",
       "      <td>HS-grad</td>\n",
       "      <td>9</td>\n",
       "      <td>Married-civ-spouse</td>\n",
       "      <td>Farming-fishing</td>\n",
       "      <td>Husband</td>\n",
       "      <td>White</td>\n",
       "      <td>Male</td>\n",
       "      <td>0</td>\n",
       "      <td>0</td>\n",
       "      <td>50</td>\n",
       "      <td>United-States</td>\n",
       "      <td>&lt;=50K.</td>\n",
       "    </tr>\n",
       "    <tr>\n",
       "      <th>2</th>\n",
       "      <td>28</td>\n",
       "      <td>Local-gov</td>\n",
       "      <td>336951</td>\n",
       "      <td>Assoc-acdm</td>\n",
       "      <td>12</td>\n",
       "      <td>Married-civ-spouse</td>\n",
       "      <td>Protective-serv</td>\n",
       "      <td>Husband</td>\n",
       "      <td>White</td>\n",
       "      <td>Male</td>\n",
       "      <td>0</td>\n",
       "      <td>0</td>\n",
       "      <td>40</td>\n",
       "      <td>United-States</td>\n",
       "      <td>&gt;50K.</td>\n",
       "    </tr>\n",
       "    <tr>\n",
       "      <th>3</th>\n",
       "      <td>44</td>\n",
       "      <td>Private</td>\n",
       "      <td>160323</td>\n",
       "      <td>Some-college</td>\n",
       "      <td>10</td>\n",
       "      <td>Married-civ-spouse</td>\n",
       "      <td>Machine-op-inspct</td>\n",
       "      <td>Husband</td>\n",
       "      <td>Black</td>\n",
       "      <td>Male</td>\n",
       "      <td>7688</td>\n",
       "      <td>0</td>\n",
       "      <td>40</td>\n",
       "      <td>United-States</td>\n",
       "      <td>&gt;50K.</td>\n",
       "    </tr>\n",
       "    <tr>\n",
       "      <th>4</th>\n",
       "      <td>18</td>\n",
       "      <td>?</td>\n",
       "      <td>103497</td>\n",
       "      <td>Some-college</td>\n",
       "      <td>10</td>\n",
       "      <td>Never-married</td>\n",
       "      <td>?</td>\n",
       "      <td>Own-child</td>\n",
       "      <td>White</td>\n",
       "      <td>Female</td>\n",
       "      <td>0</td>\n",
       "      <td>0</td>\n",
       "      <td>30</td>\n",
       "      <td>United-States</td>\n",
       "      <td>&lt;=50K.</td>\n",
       "    </tr>\n",
       "  </tbody>\n",
       "</table>\n",
       "</div>"
      ],
      "text/plain": [
       "   age   workclass  fnlwgt      education  education-num       marital-status  \\\n",
       "0   25     Private  226802           11th              7        Never-married   \n",
       "1   38     Private   89814        HS-grad              9   Married-civ-spouse   \n",
       "2   28   Local-gov  336951     Assoc-acdm             12   Married-civ-spouse   \n",
       "3   44     Private  160323   Some-college             10   Married-civ-spouse   \n",
       "4   18           ?  103497   Some-college             10        Never-married   \n",
       "\n",
       "           occupation relationship    race      sex  capital-gain  \\\n",
       "0   Machine-op-inspct    Own-child   Black     Male             0   \n",
       "1     Farming-fishing      Husband   White     Male             0   \n",
       "2     Protective-serv      Husband   White     Male             0   \n",
       "3   Machine-op-inspct      Husband   Black     Male          7688   \n",
       "4                   ?    Own-child   White   Female             0   \n",
       "\n",
       "   capital-loss  hours-per-week  native-country   salary  \n",
       "0             0              40   United-States   <=50K.  \n",
       "1             0              50   United-States   <=50K.  \n",
       "2             0              40   United-States    >50K.  \n",
       "3             0              40   United-States    >50K.  \n",
       "4             0              30   United-States   <=50K.  "
      ]
     },
     "execution_count": 4,
     "metadata": {},
     "output_type": "execute_result"
    }
   ],
   "source": [
    "golden.head()"
   ]
  },
  {
   "cell_type": "code",
   "execution_count": 5,
   "metadata": {},
   "outputs": [
    {
     "data": {
      "text/html": [
       "<div>\n",
       "<style scoped>\n",
       "    .dataframe tbody tr th:only-of-type {\n",
       "        vertical-align: middle;\n",
       "    }\n",
       "\n",
       "    .dataframe tbody tr th {\n",
       "        vertical-align: top;\n",
       "    }\n",
       "\n",
       "    .dataframe thead th {\n",
       "        text-align: right;\n",
       "    }\n",
       "</style>\n",
       "<table border=\"1\" class=\"dataframe\">\n",
       "  <thead>\n",
       "    <tr style=\"text-align: right;\">\n",
       "      <th></th>\n",
       "      <th>age</th>\n",
       "      <th>workclass</th>\n",
       "      <th>fnlwgt</th>\n",
       "      <th>education</th>\n",
       "      <th>education-num</th>\n",
       "      <th>marital-status</th>\n",
       "      <th>occupation</th>\n",
       "      <th>relationship</th>\n",
       "      <th>race</th>\n",
       "      <th>sex</th>\n",
       "      <th>capital-gain</th>\n",
       "      <th>capital-loss</th>\n",
       "      <th>hours-per-week</th>\n",
       "      <th>native-country</th>\n",
       "      <th>salary</th>\n",
       "    </tr>\n",
       "  </thead>\n",
       "  <tbody>\n",
       "    <tr>\n",
       "      <th>0</th>\n",
       "      <td>39</td>\n",
       "      <td>State-gov</td>\n",
       "      <td>77516</td>\n",
       "      <td>Bachelors</td>\n",
       "      <td>13</td>\n",
       "      <td>Never-married</td>\n",
       "      <td>Adm-clerical</td>\n",
       "      <td>Not-in-family</td>\n",
       "      <td>White</td>\n",
       "      <td>Male</td>\n",
       "      <td>2174</td>\n",
       "      <td>0</td>\n",
       "      <td>40</td>\n",
       "      <td>United-States</td>\n",
       "      <td>&lt;=50K</td>\n",
       "    </tr>\n",
       "    <tr>\n",
       "      <th>1</th>\n",
       "      <td>50</td>\n",
       "      <td>Self-emp-not-inc</td>\n",
       "      <td>83311</td>\n",
       "      <td>Bachelors</td>\n",
       "      <td>13</td>\n",
       "      <td>Married-civ-spouse</td>\n",
       "      <td>Exec-managerial</td>\n",
       "      <td>Husband</td>\n",
       "      <td>White</td>\n",
       "      <td>Male</td>\n",
       "      <td>0</td>\n",
       "      <td>0</td>\n",
       "      <td>13</td>\n",
       "      <td>United-States</td>\n",
       "      <td>&lt;=50K</td>\n",
       "    </tr>\n",
       "    <tr>\n",
       "      <th>2</th>\n",
       "      <td>38</td>\n",
       "      <td>Private</td>\n",
       "      <td>215646</td>\n",
       "      <td>HS-grad</td>\n",
       "      <td>9</td>\n",
       "      <td>Divorced</td>\n",
       "      <td>Handlers-cleaners</td>\n",
       "      <td>Not-in-family</td>\n",
       "      <td>White</td>\n",
       "      <td>Male</td>\n",
       "      <td>0</td>\n",
       "      <td>0</td>\n",
       "      <td>40</td>\n",
       "      <td>United-States</td>\n",
       "      <td>&lt;=50K</td>\n",
       "    </tr>\n",
       "    <tr>\n",
       "      <th>3</th>\n",
       "      <td>53</td>\n",
       "      <td>Private</td>\n",
       "      <td>234721</td>\n",
       "      <td>11th</td>\n",
       "      <td>7</td>\n",
       "      <td>Married-civ-spouse</td>\n",
       "      <td>Handlers-cleaners</td>\n",
       "      <td>Husband</td>\n",
       "      <td>Black</td>\n",
       "      <td>Male</td>\n",
       "      <td>0</td>\n",
       "      <td>0</td>\n",
       "      <td>40</td>\n",
       "      <td>United-States</td>\n",
       "      <td>&lt;=50K</td>\n",
       "    </tr>\n",
       "    <tr>\n",
       "      <th>4</th>\n",
       "      <td>28</td>\n",
       "      <td>Private</td>\n",
       "      <td>338409</td>\n",
       "      <td>Bachelors</td>\n",
       "      <td>13</td>\n",
       "      <td>Married-civ-spouse</td>\n",
       "      <td>Prof-specialty</td>\n",
       "      <td>Wife</td>\n",
       "      <td>Black</td>\n",
       "      <td>Female</td>\n",
       "      <td>0</td>\n",
       "      <td>0</td>\n",
       "      <td>40</td>\n",
       "      <td>Cuba</td>\n",
       "      <td>&lt;=50K</td>\n",
       "    </tr>\n",
       "  </tbody>\n",
       "</table>\n",
       "</div>"
      ],
      "text/plain": [
       "   age          workclass  fnlwgt   education  education-num  \\\n",
       "0   39          State-gov   77516   Bachelors             13   \n",
       "1   50   Self-emp-not-inc   83311   Bachelors             13   \n",
       "2   38            Private  215646     HS-grad              9   \n",
       "3   53            Private  234721        11th              7   \n",
       "4   28            Private  338409   Bachelors             13   \n",
       "\n",
       "        marital-status          occupation    relationship    race      sex  \\\n",
       "0        Never-married        Adm-clerical   Not-in-family   White     Male   \n",
       "1   Married-civ-spouse     Exec-managerial         Husband   White     Male   \n",
       "2             Divorced   Handlers-cleaners   Not-in-family   White     Male   \n",
       "3   Married-civ-spouse   Handlers-cleaners         Husband   Black     Male   \n",
       "4   Married-civ-spouse      Prof-specialty            Wife   Black   Female   \n",
       "\n",
       "   capital-gain  capital-loss  hours-per-week  native-country  salary  \n",
       "0          2174             0              40   United-States   <=50K  \n",
       "1             0             0              13   United-States   <=50K  \n",
       "2             0             0              40   United-States   <=50K  \n",
       "3             0             0              40   United-States   <=50K  \n",
       "4             0             0              40            Cuba   <=50K  "
      ]
     },
     "execution_count": 5,
     "metadata": {},
     "output_type": "execute_result"
    }
   ],
   "source": [
    "df.head()"
   ]
  },
  {
   "cell_type": "code",
   "execution_count": 6,
   "metadata": {},
   "outputs": [
    {
     "data": {
      "text/plain": [
       "Index(['age', 'workclass', 'fnlwgt', 'education', 'education-num',\n",
       "       'marital-status', 'occupation', 'relationship', 'race', 'sex',\n",
       "       'capital-gain', 'capital-loss', 'hours-per-week', 'native-country',\n",
       "       'salary'],\n",
       "      dtype='object')"
      ]
     },
     "execution_count": 6,
     "metadata": {},
     "output_type": "execute_result"
    }
   ],
   "source": [
    "df.columns"
   ]
  },
  {
   "cell_type": "code",
   "execution_count": 7,
   "metadata": {},
   "outputs": [],
   "source": [
    "from sklearn import preprocessing"
   ]
  },
  {
   "cell_type": "code",
   "execution_count": 8,
   "metadata": {},
   "outputs": [],
   "source": [
    "enc = preprocessing.OrdinalEncoder()"
   ]
  },
  {
   "cell_type": "code",
   "execution_count": 9,
   "metadata": {},
   "outputs": [],
   "source": [
    "transform_columns = ['sex']\n",
    "non_num_columns = ['workclass', 'education', 'marital-status', \n",
    "                     'occupation', 'relationship', 'race', 'sex', \n",
    "                     'native-country']"
   ]
  },
  {
   "cell_type": "code",
   "execution_count": 10,
   "metadata": {},
   "outputs": [
    {
     "data": {
      "text/html": [
       "<div>\n",
       "<style scoped>\n",
       "    .dataframe tbody tr th:only-of-type {\n",
       "        vertical-align: middle;\n",
       "    }\n",
       "\n",
       "    .dataframe tbody tr th {\n",
       "        vertical-align: top;\n",
       "    }\n",
       "\n",
       "    .dataframe thead th {\n",
       "        text-align: right;\n",
       "    }\n",
       "</style>\n",
       "<table border=\"1\" class=\"dataframe\">\n",
       "  <thead>\n",
       "    <tr style=\"text-align: right;\">\n",
       "      <th></th>\n",
       "      <th>sex_ Female</th>\n",
       "      <th>sex_ Male</th>\n",
       "    </tr>\n",
       "  </thead>\n",
       "  <tbody>\n",
       "    <tr>\n",
       "      <th>0</th>\n",
       "      <td>0</td>\n",
       "      <td>1</td>\n",
       "    </tr>\n",
       "    <tr>\n",
       "      <th>1</th>\n",
       "      <td>0</td>\n",
       "      <td>1</td>\n",
       "    </tr>\n",
       "    <tr>\n",
       "      <th>2</th>\n",
       "      <td>0</td>\n",
       "      <td>1</td>\n",
       "    </tr>\n",
       "    <tr>\n",
       "      <th>3</th>\n",
       "      <td>0</td>\n",
       "      <td>1</td>\n",
       "    </tr>\n",
       "    <tr>\n",
       "      <th>4</th>\n",
       "      <td>1</td>\n",
       "      <td>0</td>\n",
       "    </tr>\n",
       "  </tbody>\n",
       "</table>\n",
       "</div>"
      ],
      "text/plain": [
       "   sex_ Female  sex_ Male\n",
       "0            0          1\n",
       "1            0          1\n",
       "2            0          1\n",
       "3            0          1\n",
       "4            1          0"
      ]
     },
     "execution_count": 10,
     "metadata": {},
     "output_type": "execute_result"
    }
   ],
   "source": [
    "pd.get_dummies(df[transform_columns]).head()"
   ]
  },
  {
   "cell_type": "code",
   "execution_count": 11,
   "metadata": {},
   "outputs": [],
   "source": [
    "x = df.copy()\n",
    "\n",
    "x = pd.concat([x.drop(non_num_columns, axis=1), \n",
    "               pd.get_dummies(df[transform_columns])], axis=1,)\n",
    "\n",
    "x[\"salary\"] = enc.fit_transform(df[[\"salary\"]])"
   ]
  },
  {
   "cell_type": "code",
   "execution_count": 12,
   "metadata": {},
   "outputs": [
    {
     "data": {
      "text/html": [
       "<div>\n",
       "<style scoped>\n",
       "    .dataframe tbody tr th:only-of-type {\n",
       "        vertical-align: middle;\n",
       "    }\n",
       "\n",
       "    .dataframe tbody tr th {\n",
       "        vertical-align: top;\n",
       "    }\n",
       "\n",
       "    .dataframe thead th {\n",
       "        text-align: right;\n",
       "    }\n",
       "</style>\n",
       "<table border=\"1\" class=\"dataframe\">\n",
       "  <thead>\n",
       "    <tr style=\"text-align: right;\">\n",
       "      <th></th>\n",
       "      <th>age</th>\n",
       "      <th>fnlwgt</th>\n",
       "      <th>education-num</th>\n",
       "      <th>capital-gain</th>\n",
       "      <th>capital-loss</th>\n",
       "      <th>hours-per-week</th>\n",
       "      <th>salary</th>\n",
       "      <th>sex_ Female</th>\n",
       "      <th>sex_ Male</th>\n",
       "    </tr>\n",
       "  </thead>\n",
       "  <tbody>\n",
       "    <tr>\n",
       "      <th>0</th>\n",
       "      <td>39</td>\n",
       "      <td>77516</td>\n",
       "      <td>13</td>\n",
       "      <td>2174</td>\n",
       "      <td>0</td>\n",
       "      <td>40</td>\n",
       "      <td>0.0</td>\n",
       "      <td>0</td>\n",
       "      <td>1</td>\n",
       "    </tr>\n",
       "    <tr>\n",
       "      <th>1</th>\n",
       "      <td>50</td>\n",
       "      <td>83311</td>\n",
       "      <td>13</td>\n",
       "      <td>0</td>\n",
       "      <td>0</td>\n",
       "      <td>13</td>\n",
       "      <td>0.0</td>\n",
       "      <td>0</td>\n",
       "      <td>1</td>\n",
       "    </tr>\n",
       "    <tr>\n",
       "      <th>2</th>\n",
       "      <td>38</td>\n",
       "      <td>215646</td>\n",
       "      <td>9</td>\n",
       "      <td>0</td>\n",
       "      <td>0</td>\n",
       "      <td>40</td>\n",
       "      <td>0.0</td>\n",
       "      <td>0</td>\n",
       "      <td>1</td>\n",
       "    </tr>\n",
       "    <tr>\n",
       "      <th>3</th>\n",
       "      <td>53</td>\n",
       "      <td>234721</td>\n",
       "      <td>7</td>\n",
       "      <td>0</td>\n",
       "      <td>0</td>\n",
       "      <td>40</td>\n",
       "      <td>0.0</td>\n",
       "      <td>0</td>\n",
       "      <td>1</td>\n",
       "    </tr>\n",
       "    <tr>\n",
       "      <th>4</th>\n",
       "      <td>28</td>\n",
       "      <td>338409</td>\n",
       "      <td>13</td>\n",
       "      <td>0</td>\n",
       "      <td>0</td>\n",
       "      <td>40</td>\n",
       "      <td>0.0</td>\n",
       "      <td>1</td>\n",
       "      <td>0</td>\n",
       "    </tr>\n",
       "  </tbody>\n",
       "</table>\n",
       "</div>"
      ],
      "text/plain": [
       "   age  fnlwgt  education-num  capital-gain  capital-loss  hours-per-week  \\\n",
       "0   39   77516             13          2174             0              40   \n",
       "1   50   83311             13             0             0              13   \n",
       "2   38  215646              9             0             0              40   \n",
       "3   53  234721              7             0             0              40   \n",
       "4   28  338409             13             0             0              40   \n",
       "\n",
       "   salary  sex_ Female  sex_ Male  \n",
       "0     0.0            0          1  \n",
       "1     0.0            0          1  \n",
       "2     0.0            0          1  \n",
       "3     0.0            0          1  \n",
       "4     0.0            1          0  "
      ]
     },
     "execution_count": 12,
     "metadata": {},
     "output_type": "execute_result"
    }
   ],
   "source": [
    "x.head()"
   ]
  },
  {
   "cell_type": "code",
   "execution_count": 13,
   "metadata": {},
   "outputs": [],
   "source": [
    "xt = golden.copy()\n",
    "\n",
    "xt = pd.concat([xt.drop(non_num_columns, axis=1), \n",
    "               pd.get_dummies(golden[transform_columns])], axis=1,)\n",
    "\n",
    "xt[\"salary\"] = enc.fit_transform(golden[[\"salary\"]])"
   ]
  },
  {
   "cell_type": "code",
   "execution_count": 14,
   "metadata": {},
   "outputs": [
    {
     "data": {
      "text/plain": [
       "0.0    12435\n",
       "1.0     3846\n",
       "Name: salary, dtype: int64"
      ]
     },
     "execution_count": 14,
     "metadata": {},
     "output_type": "execute_result"
    }
   ],
   "source": [
    "xt.salary.value_counts()"
   ]
  },
  {
   "cell_type": "code",
   "execution_count": 15,
   "metadata": {},
   "outputs": [
    {
     "data": {
      "text/plain": [
       "[array([' <=50K.', ' >50K.'], dtype=object)]"
      ]
     },
     "execution_count": 15,
     "metadata": {},
     "output_type": "execute_result"
    }
   ],
   "source": [
    "enc.categories_"
   ]
  },
  {
   "cell_type": "code",
   "execution_count": 16,
   "metadata": {},
   "outputs": [],
   "source": [
    "from sklearn.tree import DecisionTreeClassifier\n",
    "from sklearn.ensemble import RandomForestClassifier\n",
    "from sklearn.ensemble import GradientBoostingClassifier"
   ]
  },
  {
   "cell_type": "markdown",
   "metadata": {},
   "source": [
    "#### Choose the model of your preference: DecisionTree or RandomForest"
   ]
  },
  {
   "cell_type": "code",
   "execution_count": 17,
   "metadata": {},
   "outputs": [],
   "source": [
    "model = RandomForestClassifier(criterion='entropy')"
   ]
  },
  {
   "cell_type": "code",
   "execution_count": 18,
   "metadata": {},
   "outputs": [],
   "source": [
    "model = DecisionTreeClassifier(criterion='entropy', max_depth=None)"
   ]
  },
  {
   "cell_type": "code",
   "execution_count": 19,
   "metadata": {},
   "outputs": [
    {
     "data": {
      "text/plain": [
       "DecisionTreeClassifier(criterion='entropy')"
      ]
     },
     "execution_count": 19,
     "metadata": {},
     "output_type": "execute_result"
    }
   ],
   "source": [
    "model.fit(x.drop(['fnlwgt','salary'], axis=1), x.salary)"
   ]
  },
  {
   "cell_type": "code",
   "execution_count": 20,
   "metadata": {},
   "outputs": [
    {
     "data": {
      "text/plain": [
       "8317"
      ]
     },
     "execution_count": 20,
     "metadata": {},
     "output_type": "execute_result"
    }
   ],
   "source": [
    "model.tree_.node_count"
   ]
  },
  {
   "cell_type": "code",
   "execution_count": 21,
   "metadata": {},
   "outputs": [
    {
     "data": {
      "text/plain": [
       "[('age', 0.32367448192304),\n",
       " ('education-num', 0.16039957769771152),\n",
       " ('capital-gain', 0.22830127920880136),\n",
       " ('capital-loss', 0.07800246105037775),\n",
       " ('hours-per-week', 0.15405831471575454),\n",
       " ('sex_ Female', 0.033582997454121355),\n",
       " ('sex_ Male', 0.021980887950193533)]"
      ]
     },
     "execution_count": 21,
     "metadata": {},
     "output_type": "execute_result"
    }
   ],
   "source": [
    "list(zip(x.drop(['fnlwgt','salary'], axis=1).columns, model.feature_importances_))"
   ]
  },
  {
   "cell_type": "code",
   "execution_count": 22,
   "metadata": {},
   "outputs": [
    {
     "data": {
      "text/plain": [
       "[('age', 0.32367448192304),\n",
       " ('education-num', 0.16039957769771152),\n",
       " ('capital-gain', 0.22830127920880136),\n",
       " ('capital-loss', 0.07800246105037775),\n",
       " ('hours-per-week', 0.15405831471575454),\n",
       " ('sex_ Female', 0.033582997454121355),\n",
       " ('sex_ Male', 0.021980887950193533)]"
      ]
     },
     "execution_count": 22,
     "metadata": {},
     "output_type": "execute_result"
    }
   ],
   "source": [
    "list(zip(x.drop(['fnlwgt','salary'], axis=1).columns, model.feature_importances_))"
   ]
  },
  {
   "cell_type": "code",
   "execution_count": 23,
   "metadata": {},
   "outputs": [
    {
     "data": {
      "text/html": [
       "<div>\n",
       "<style scoped>\n",
       "    .dataframe tbody tr th:only-of-type {\n",
       "        vertical-align: middle;\n",
       "    }\n",
       "\n",
       "    .dataframe tbody tr th {\n",
       "        vertical-align: top;\n",
       "    }\n",
       "\n",
       "    .dataframe thead th {\n",
       "        text-align: right;\n",
       "    }\n",
       "</style>\n",
       "<table border=\"1\" class=\"dataframe\">\n",
       "  <thead>\n",
       "    <tr style=\"text-align: right;\">\n",
       "      <th></th>\n",
       "      <th>age</th>\n",
       "      <th>education-num</th>\n",
       "      <th>capital-gain</th>\n",
       "      <th>capital-loss</th>\n",
       "      <th>hours-per-week</th>\n",
       "      <th>sex_ Female</th>\n",
       "      <th>sex_ Male</th>\n",
       "    </tr>\n",
       "  </thead>\n",
       "  <tbody>\n",
       "    <tr>\n",
       "      <th>0</th>\n",
       "      <td>39</td>\n",
       "      <td>13</td>\n",
       "      <td>2174</td>\n",
       "      <td>0</td>\n",
       "      <td>40</td>\n",
       "      <td>0</td>\n",
       "      <td>1</td>\n",
       "    </tr>\n",
       "    <tr>\n",
       "      <th>1</th>\n",
       "      <td>50</td>\n",
       "      <td>13</td>\n",
       "      <td>0</td>\n",
       "      <td>0</td>\n",
       "      <td>13</td>\n",
       "      <td>0</td>\n",
       "      <td>1</td>\n",
       "    </tr>\n",
       "    <tr>\n",
       "      <th>2</th>\n",
       "      <td>38</td>\n",
       "      <td>9</td>\n",
       "      <td>0</td>\n",
       "      <td>0</td>\n",
       "      <td>40</td>\n",
       "      <td>0</td>\n",
       "      <td>1</td>\n",
       "    </tr>\n",
       "    <tr>\n",
       "      <th>3</th>\n",
       "      <td>53</td>\n",
       "      <td>7</td>\n",
       "      <td>0</td>\n",
       "      <td>0</td>\n",
       "      <td>40</td>\n",
       "      <td>0</td>\n",
       "      <td>1</td>\n",
       "    </tr>\n",
       "    <tr>\n",
       "      <th>4</th>\n",
       "      <td>28</td>\n",
       "      <td>13</td>\n",
       "      <td>0</td>\n",
       "      <td>0</td>\n",
       "      <td>40</td>\n",
       "      <td>1</td>\n",
       "      <td>0</td>\n",
       "    </tr>\n",
       "  </tbody>\n",
       "</table>\n",
       "</div>"
      ],
      "text/plain": [
       "   age  education-num  capital-gain  capital-loss  hours-per-week  \\\n",
       "0   39             13          2174             0              40   \n",
       "1   50             13             0             0              13   \n",
       "2   38              9             0             0              40   \n",
       "3   53              7             0             0              40   \n",
       "4   28             13             0             0              40   \n",
       "\n",
       "   sex_ Female  sex_ Male  \n",
       "0            0          1  \n",
       "1            0          1  \n",
       "2            0          1  \n",
       "3            0          1  \n",
       "4            1          0  "
      ]
     },
     "execution_count": 23,
     "metadata": {},
     "output_type": "execute_result"
    }
   ],
   "source": [
    "x.drop(['fnlwgt','salary'], axis=1).head()"
   ]
  },
  {
   "cell_type": "code",
   "execution_count": 24,
   "metadata": {},
   "outputs": [
    {
     "data": {
      "text/plain": [
       "set()"
      ]
     },
     "execution_count": 24,
     "metadata": {},
     "output_type": "execute_result"
    }
   ],
   "source": [
    "set(x.columns) - set(xt.columns)"
   ]
  },
  {
   "cell_type": "code",
   "execution_count": 25,
   "metadata": {},
   "outputs": [
    {
     "data": {
      "text/plain": [
       "['age',\n",
       " 'fnlwgt',\n",
       " 'education-num',\n",
       " 'capital-gain',\n",
       " 'capital-loss',\n",
       " 'hours-per-week',\n",
       " 'sex_ Female',\n",
       " 'sex_ Male']"
      ]
     },
     "execution_count": 25,
     "metadata": {},
     "output_type": "execute_result"
    }
   ],
   "source": [
    "list(x.drop('salary', axis=1).columns)"
   ]
  },
  {
   "cell_type": "code",
   "execution_count": 26,
   "metadata": {},
   "outputs": [],
   "source": [
    "predictions = model.predict(xt.drop(['fnlwgt','salary'], axis=1))\n",
    "predictionsx = model.predict(x.drop(['fnlwgt','salary'], axis=1))"
   ]
  },
  {
   "cell_type": "code",
   "execution_count": 27,
   "metadata": {},
   "outputs": [],
   "source": [
    "from sklearn.metrics import (\n",
    "    accuracy_score, \n",
    "    classification_report, \n",
    "    confusion_matrix, auc, roc_curve\n",
    ")"
   ]
  },
  {
   "cell_type": "code",
   "execution_count": 28,
   "metadata": {},
   "outputs": [
    {
     "data": {
      "text/plain": [
       "0.8205269946563479"
      ]
     },
     "execution_count": 28,
     "metadata": {},
     "output_type": "execute_result"
    }
   ],
   "source": [
    "accuracy_score(xt.salary, predictions)"
   ]
  },
  {
   "cell_type": "code",
   "execution_count": 29,
   "metadata": {},
   "outputs": [
    {
     "data": {
      "text/plain": [
       "0.8205269946563479"
      ]
     },
     "execution_count": 29,
     "metadata": {},
     "output_type": "execute_result"
    }
   ],
   "source": [
    "accuracy_score(xt.salary, predictions)"
   ]
  },
  {
   "cell_type": "code",
   "execution_count": 30,
   "metadata": {},
   "outputs": [
    {
     "data": {
      "text/plain": [
       "array([[11455,   980],\n",
       "       [ 1942,  1904]], dtype=int64)"
      ]
     },
     "execution_count": 30,
     "metadata": {},
     "output_type": "execute_result"
    }
   ],
   "source": [
    "confusion_matrix(xt.salary, predictions)"
   ]
  },
  {
   "cell_type": "code",
   "execution_count": 31,
   "metadata": {},
   "outputs": [
    {
     "name": "stdout",
     "output_type": "stream",
     "text": [
      "              precision    recall  f1-score   support\n",
      "\n",
      "         0.0       0.86      0.92      0.89     12435\n",
      "         1.0       0.66      0.50      0.57      3846\n",
      "\n",
      "    accuracy                           0.82     16281\n",
      "   macro avg       0.76      0.71      0.73     16281\n",
      "weighted avg       0.81      0.82      0.81     16281\n",
      "\n"
     ]
    }
   ],
   "source": [
    "print(classification_report(xt.salary, predictions))"
   ]
  },
  {
   "cell_type": "code",
   "execution_count": 32,
   "metadata": {},
   "outputs": [
    {
     "name": "stdout",
     "output_type": "stream",
     "text": [
      "              precision    recall  f1-score   support\n",
      "\n",
      "         0.0       0.86      0.92      0.89     12435\n",
      "         1.0       0.66      0.50      0.57      3846\n",
      "\n",
      "    accuracy                           0.82     16281\n",
      "   macro avg       0.76      0.71      0.73     16281\n",
      "weighted avg       0.81      0.82      0.81     16281\n",
      "\n"
     ]
    }
   ],
   "source": [
    "print(classification_report(xt.salary, predictions))"
   ]
  },
  {
   "cell_type": "code",
   "execution_count": 33,
   "metadata": {},
   "outputs": [
    {
     "data": {
      "text/plain": [
       "0.8955806025613464"
      ]
     },
     "execution_count": 33,
     "metadata": {},
     "output_type": "execute_result"
    }
   ],
   "source": [
    "accuracy_score(x.salary, predictionsx)"
   ]
  },
  {
   "cell_type": "code",
   "execution_count": 34,
   "metadata": {},
   "outputs": [
    {
     "data": {
      "text/plain": [
       "array([[24097,   623],\n",
       "       [ 2777,  5064]], dtype=int64)"
      ]
     },
     "execution_count": 34,
     "metadata": {},
     "output_type": "execute_result"
    }
   ],
   "source": [
    "confusion_matrix(x.salary, predictionsx)"
   ]
  },
  {
   "cell_type": "code",
   "execution_count": 35,
   "metadata": {},
   "outputs": [
    {
     "name": "stdout",
     "output_type": "stream",
     "text": [
      "              precision    recall  f1-score   support\n",
      "\n",
      "         0.0       0.90      0.97      0.93     24720\n",
      "         1.0       0.89      0.65      0.75      7841\n",
      "\n",
      "    accuracy                           0.90     32561\n",
      "   macro avg       0.89      0.81      0.84     32561\n",
      "weighted avg       0.90      0.90      0.89     32561\n",
      "\n"
     ]
    }
   ],
   "source": [
    "print(classification_report(x.salary, predictionsx))"
   ]
  },
  {
   "cell_type": "code",
   "execution_count": 36,
   "metadata": {},
   "outputs": [
    {
     "name": "stdout",
     "output_type": "stream",
     "text": [
      "              precision    recall  f1-score   support\n",
      "\n",
      "         0.0       0.90      0.97      0.93     24720\n",
      "         1.0       0.89      0.65      0.75      7841\n",
      "\n",
      "    accuracy                           0.90     32561\n",
      "   macro avg       0.89      0.81      0.84     32561\n",
      "weighted avg       0.90      0.90      0.89     32561\n",
      "\n"
     ]
    }
   ],
   "source": [
    "print(classification_report(x.salary, predictionsx))"
   ]
  },
  {
   "cell_type": "markdown",
   "metadata": {},
   "source": [
    "# For the following use the above `adult` dataset. Start with only numerical features/columns.  "
   ]
  },
  {
   "cell_type": "code",
   "execution_count": 37,
   "metadata": {},
   "outputs": [],
   "source": [
    "df_train = df.copy()\n",
    "df_test = golden.copy()"
   ]
  },
  {
   "cell_type": "code",
   "execution_count": 38,
   "metadata": {},
   "outputs": [],
   "source": [
    "non_num_cols = [\n",
    "    'workclass',\n",
    "    'education',\n",
    "    'marital-status',\n",
    "    'occupation',\n",
    "    'relationship',\n",
    "    'race',\n",
    "    'sex',\n",
    "    'native-country'\n",
    "]\n",
    "df_train = df.drop(non_num_cols, axis = 1).copy()\n",
    "x_train = df_train.drop('salary', axis = 1)\n",
    "y_train = df_train[['salary']]\n",
    "\n",
    "df_test = golden.drop(non_num_cols, axis = 1).copy()\n",
    "x_test = df_test.drop('salary', axis = 1)\n",
    "y_test = df_test[['salary']]"
   ]
  },
  {
   "cell_type": "markdown",
   "metadata": {},
   "source": [
    "# 1. Show the RandomForest outperforms the DecisionTree for a fixed `max_depth` by training using the train set and `precision`, `recall`, `f1` on golden-test set."
   ]
  },
  {
   "cell_type": "code",
   "execution_count": 39,
   "metadata": {
    "scrolled": true
   },
   "outputs": [],
   "source": [
    "y_train = enc.fit_transform(y_train).ravel()\n",
    "y_test = enc.fit_transform(y_test).ravel()"
   ]
  },
  {
   "cell_type": "code",
   "execution_count": 40,
   "metadata": {},
   "outputs": [],
   "source": [
    "rf = RandomForestClassifier(max_depth = 15)\n",
    "dt = DecisionTreeClassifier(max_depth = 15)"
   ]
  },
  {
   "cell_type": "code",
   "execution_count": 41,
   "metadata": {},
   "outputs": [
    {
     "data": {
      "text/plain": [
       "DecisionTreeClassifier(max_depth=15)"
      ]
     },
     "execution_count": 41,
     "metadata": {},
     "output_type": "execute_result"
    }
   ],
   "source": [
    "rf.fit(x_train, y_train)\n",
    "dt.fit(x_train, y_train)"
   ]
  },
  {
   "cell_type": "code",
   "execution_count": 42,
   "metadata": {},
   "outputs": [],
   "source": [
    "rf_pred = rf.predict(x_test)\n",
    "dt_pred = dt.predict(x_test)"
   ]
  },
  {
   "cell_type": "code",
   "execution_count": 43,
   "metadata": {},
   "outputs": [],
   "source": [
    "from sklearn.metrics import (\n",
    "    accuracy_score, \n",
    "    classification_report, \n",
    "    confusion_matrix, auc, roc_curve\n",
    ")"
   ]
  },
  {
   "cell_type": "code",
   "execution_count": 44,
   "metadata": {},
   "outputs": [],
   "source": [
    "def get_accuracies(y_true, preds):\n",
    "    acc = accuracy_score(y_true, preds)\n",
    "    confus = confusion_matrix(y_true, preds)\n",
    "    classif = classification_report(y_true, preds)\n",
    "    \n",
    "    return [acc, confus, classif]"
   ]
  },
  {
   "cell_type": "code",
   "execution_count": 45,
   "metadata": {},
   "outputs": [],
   "source": [
    "acc_dict = {\"Random Forest\": rf_pred, \"Decision Tree\": dt_pred}"
   ]
  },
  {
   "cell_type": "code",
   "execution_count": 46,
   "metadata": {},
   "outputs": [
    {
     "name": "stdout",
     "output_type": "stream",
     "text": [
      "\u001b[1mRandom Forest\u001b[0m: \n",
      "\n",
      "Accuracy: 0.838%\n",
      "\n",
      "Confusion Matrix:\n",
      " [[11882   553]\n",
      " [ 2081  1765]]\n",
      "\n",
      "Classification Report:\n",
      "\n",
      "               precision    recall  f1-score   support\n",
      "\n",
      "         0.0       0.85      0.96      0.90     12435\n",
      "         1.0       0.76      0.46      0.57      3846\n",
      "\n",
      "    accuracy                           0.84     16281\n",
      "   macro avg       0.81      0.71      0.74     16281\n",
      "weighted avg       0.83      0.84      0.82     16281\n",
      "\n",
      "\u001b[1mDecision Tree\u001b[0m: \n",
      "\n",
      "Accuracy: 0.820%\n",
      "\n",
      "Confusion Matrix:\n",
      " [[11554   881]\n",
      " [ 2053  1793]]\n",
      "\n",
      "Classification Report:\n",
      "\n",
      "               precision    recall  f1-score   support\n",
      "\n",
      "         0.0       0.85      0.93      0.89     12435\n",
      "         1.0       0.67      0.47      0.55      3846\n",
      "\n",
      "    accuracy                           0.82     16281\n",
      "   macro avg       0.76      0.70      0.72     16281\n",
      "weighted avg       0.81      0.82      0.81     16281\n",
      "\n"
     ]
    }
   ],
   "source": [
    "for k, v in acc_dict.items():\n",
    "    accs, confus, classif = get_accuracies(y_test, v)\n",
    "    print(f\"\\033[1m{k}\\033[0m: \\n\\nAccuracy: {accs:.3f}%\\n\\nConfusion Matrix:\\n {confus}\\n\\nClassification Report:\\n\\n {classif}\")"
   ]
  },
  {
   "cell_type": "markdown",
   "metadata": {},
   "source": [
    "# 2. For RandomForest or DecisionTree and using the `adult` dataset, systematically add new columns, one by one, that are non-numerical but converted using the feature-extraction techniques we learned. Show [`precision`, `recall`, `f1`] for each additional feature added."
   ]
  },
  {
   "cell_type": "code",
   "execution_count": 47,
   "metadata": {},
   "outputs": [],
   "source": [
    "import numpy as np\n",
    "\n",
    "df_train = df.copy()\n",
    "df_test = golden.copy()"
   ]
  },
  {
   "cell_type": "code",
   "execution_count": 48,
   "metadata": {},
   "outputs": [],
   "source": [
    "def run_model(df_train,df_test,non_num_cols, target_var, col_list = ['sex'], model_type = 'Random Forest', verbose = True):\n",
    "    \"\"\"\n",
    "    \n",
    "    Function that runs classification models and outputs all accuracy metrics\n",
    "    \n",
    "    Variables\n",
    "    --------------\n",
    "    df_train: dataframe\n",
    "        dataframe used to train the model\n",
    "    df_test: dataframe\n",
    "        dataframe used to test the model's accuracy\n",
    "    non_num_cols: list\n",
    "        list of columns that are non-numeric\n",
    "    target_var: str\n",
    "        name of predictor column\n",
    "    col_list: list\n",
    "        list of columns that are intended to be encoded and concatenated to the training dataframe\n",
    "    model_type: str\n",
    "        name of model used as well as report\n",
    "            opts: 'Random Forest', 'Decision Tree'\n",
    "    verbose: bool\n",
    "        boolean to either print or not print the output of the accuracy report    \n",
    "    \"\"\"\n",
    "    \n",
    "    dftrain = df_train.drop(non_num_cols, axis = 1).copy()\n",
    "    dftest = df_test.drop(non_num_cols, axis = 1).copy()\n",
    "\n",
    "    xtrain = pd.concat([dftrain, pd.get_dummies(df_train[col_list])], axis = 1)\n",
    "    xtest = pd.concat([dftest, pd.get_dummies(df_test[col_list])], axis = 1)\n",
    "    \n",
    "    diff_cols = set(xtrain.columns) - set(xtest.columns)\n",
    "    \n",
    "    # Create zero column for columns that differ between the test and training sets\n",
    "    if diff_cols:\n",
    "        difference_df = pd.DataFrame(data=np.zeros((xtest.shape[0], len(diff_cols))),\n",
    "                                     columns=list(diff_cols))\n",
    "        xtest = pd.concat([xtest, difference_df], axis = 1)\n",
    "        xtest = xtest[xtrain.columns]\n",
    "    \n",
    "\n",
    "    ytrain = enc.fit_transform(df_train[[target_var]]).ravel()\n",
    "    ytest = enc.fit_transform(df_test[[target_var]]).ravel()\n",
    "\n",
    "    if model_type == 'Random Forest':\n",
    "        model = RandomForestClassifier()\n",
    "    elif model_type == 'Decision Tree':\n",
    "        model = DecisionTreeClassifier()\n",
    "\n",
    "    model.fit(xtrain, ytrain)\n",
    "    preds = model.predict(xtest)\n",
    "\n",
    "    acc_list = get_accuracies(ytest, preds)\n",
    "\n",
    "    if verbose:\n",
    "        print(f\"\\033[1m{model_type}\\033[0m: \\n\\nNon-Numerical Columns: {col_list} \\n\\nAccuracy: {acc_list[0] * 100:.2f}%\\n\\nConfusion Matrix:\\n {acc_list[1]}\\n\\nClassification Report:\\n\\n {acc_list[2]}\\n\\n\")\n",
    "        \n",
    "    return acc_list"
   ]
  },
  {
   "cell_type": "code",
   "execution_count": 49,
   "metadata": {},
   "outputs": [],
   "source": [
    "def run_model_addcat(df_train, df_test, target_var = 'salary'):\n",
    "    \"\"\"\n",
    "    Function that systematically adds encoded categorical variables, trains a model, and then reports that accuracy in a formatted report\n",
    "    \n",
    "    Variables\n",
    "    ----------\n",
    "    df_train: dataframe\n",
    "        dataframe used to train the model\n",
    "    df_test: dataframe\n",
    "        dataframe used to test the model\n",
    "    target_var: str\n",
    "        name of predictor column    \n",
    "    \n",
    "    \"\"\"\n",
    "    \n",
    "    cat_vars = list(df_train.select_dtypes(include=['object']).columns)\n",
    "    cat_vars.remove(target_var)\n",
    "    cat_vars_uniquedict = {i:len(df[i].unique()) for i in cat_vars}\n",
    "\n",
    "    non_num_cols = [i[0] for i in sorted(cat_vars_uniquedict.items(), key = lambda x: x[1])]\n",
    "    \n",
    "    cat_vars = list(df_train.select_dtypes(include=['object']).columns)\n",
    "    non_num_cols = cat_vars.copy()\n",
    "    cat_vars.remove(target_var)\n",
    "    cat_vars_uniquedict = {i:len(df[i].unique()) for i in cat_vars}\n",
    "    cat_vars = [i[0] for i in sorted(cat_vars_uniquedict.items(), key = lambda x: x[1])]\n",
    "    print(\"---Starting Report---\\n\\n\\n\")\n",
    "    for i in range(1,len(cat_vars) + 1):\n",
    "        run_model(df_train, df_test, non_num_cols, 'salary', cat_vars[0:i], 'Random Forest', True)\n",
    "        run_model(df_train, df_test, non_num_cols, 'salary', cat_vars[0:i], 'Decision Tree', True)\n",
    "    print(\"\\n\\n\\n---Finishing Report---\")\n",
    "\n",
    "    "
   ]
  },
  {
   "cell_type": "code",
   "execution_count": 50,
   "metadata": {
    "scrolled": true
   },
   "outputs": [
    {
     "name": "stdout",
     "output_type": "stream",
     "text": [
      "---Starting Report---\n",
      "\n",
      "\n",
      "\n",
      "\u001b[1mRandom Forest\u001b[0m: \n",
      "\n",
      "Non-Numerical Columns: ['sex'] \n",
      "\n",
      "Accuracy: 81.98%\n",
      "\n",
      "Confusion Matrix:\n",
      " [[11287  1148]\n",
      " [ 1786  2060]]\n",
      "\n",
      "Classification Report:\n",
      "\n",
      "               precision    recall  f1-score   support\n",
      "\n",
      "         0.0       0.86      0.91      0.88     12435\n",
      "         1.0       0.64      0.54      0.58      3846\n",
      "\n",
      "    accuracy                           0.82     16281\n",
      "   macro avg       0.75      0.72      0.73     16281\n",
      "weighted avg       0.81      0.82      0.81     16281\n",
      "\n",
      "\n",
      "\n",
      "\u001b[1mDecision Tree\u001b[0m: \n",
      "\n",
      "Non-Numerical Columns: ['sex'] \n",
      "\n",
      "Accuracy: 78.48%\n",
      "\n",
      "Confusion Matrix:\n",
      " [[10652  1783]\n",
      " [ 1720  2126]]\n",
      "\n",
      "Classification Report:\n",
      "\n",
      "               precision    recall  f1-score   support\n",
      "\n",
      "         0.0       0.86      0.86      0.86     12435\n",
      "         1.0       0.54      0.55      0.55      3846\n",
      "\n",
      "    accuracy                           0.78     16281\n",
      "   macro avg       0.70      0.70      0.70     16281\n",
      "weighted avg       0.79      0.78      0.79     16281\n",
      "\n",
      "\n",
      "\n",
      "\u001b[1mRandom Forest\u001b[0m: \n",
      "\n",
      "Non-Numerical Columns: ['sex', 'race'] \n",
      "\n",
      "Accuracy: 82.03%\n",
      "\n",
      "Confusion Matrix:\n",
      " [[11313  1122]\n",
      " [ 1803  2043]]\n",
      "\n",
      "Classification Report:\n",
      "\n",
      "               precision    recall  f1-score   support\n",
      "\n",
      "         0.0       0.86      0.91      0.89     12435\n",
      "         1.0       0.65      0.53      0.58      3846\n",
      "\n",
      "    accuracy                           0.82     16281\n",
      "   macro avg       0.75      0.72      0.73     16281\n",
      "weighted avg       0.81      0.82      0.81     16281\n",
      "\n",
      "\n",
      "\n",
      "\u001b[1mDecision Tree\u001b[0m: \n",
      "\n",
      "Non-Numerical Columns: ['sex', 'race'] \n",
      "\n",
      "Accuracy: 78.20%\n",
      "\n",
      "Confusion Matrix:\n",
      " [[10610  1825]\n",
      " [ 1724  2122]]\n",
      "\n",
      "Classification Report:\n",
      "\n",
      "               precision    recall  f1-score   support\n",
      "\n",
      "         0.0       0.86      0.85      0.86     12435\n",
      "         1.0       0.54      0.55      0.54      3846\n",
      "\n",
      "    accuracy                           0.78     16281\n",
      "   macro avg       0.70      0.70      0.70     16281\n",
      "weighted avg       0.78      0.78      0.78     16281\n",
      "\n",
      "\n",
      "\n",
      "\u001b[1mRandom Forest\u001b[0m: \n",
      "\n",
      "Non-Numerical Columns: ['sex', 'race', 'relationship'] \n",
      "\n",
      "Accuracy: 84.61%\n",
      "\n",
      "Confusion Matrix:\n",
      " [[11431  1004]\n",
      " [ 1502  2344]]\n",
      "\n",
      "Classification Report:\n",
      "\n",
      "               precision    recall  f1-score   support\n",
      "\n",
      "         0.0       0.88      0.92      0.90     12435\n",
      "         1.0       0.70      0.61      0.65      3846\n",
      "\n",
      "    accuracy                           0.85     16281\n",
      "   macro avg       0.79      0.76      0.78     16281\n",
      "weighted avg       0.84      0.85      0.84     16281\n",
      "\n",
      "\n",
      "\n",
      "\u001b[1mDecision Tree\u001b[0m: \n",
      "\n",
      "Non-Numerical Columns: ['sex', 'race', 'relationship'] \n",
      "\n",
      "Accuracy: 81.09%\n",
      "\n",
      "Confusion Matrix:\n",
      " [[10883  1552]\n",
      " [ 1526  2320]]\n",
      "\n",
      "Classification Report:\n",
      "\n",
      "               precision    recall  f1-score   support\n",
      "\n",
      "         0.0       0.88      0.88      0.88     12435\n",
      "         1.0       0.60      0.60      0.60      3846\n",
      "\n",
      "    accuracy                           0.81     16281\n",
      "   macro avg       0.74      0.74      0.74     16281\n",
      "weighted avg       0.81      0.81      0.81     16281\n",
      "\n",
      "\n",
      "\n",
      "\u001b[1mRandom Forest\u001b[0m: \n",
      "\n",
      "Non-Numerical Columns: ['sex', 'race', 'relationship', 'marital-status'] \n",
      "\n",
      "Accuracy: 84.35%\n",
      "\n",
      "Confusion Matrix:\n",
      " [[11399  1036]\n",
      " [ 1512  2334]]\n",
      "\n",
      "Classification Report:\n",
      "\n",
      "               precision    recall  f1-score   support\n",
      "\n",
      "         0.0       0.88      0.92      0.90     12435\n",
      "         1.0       0.69      0.61      0.65      3846\n",
      "\n",
      "    accuracy                           0.84     16281\n",
      "   macro avg       0.79      0.76      0.77     16281\n",
      "weighted avg       0.84      0.84      0.84     16281\n",
      "\n",
      "\n",
      "\n",
      "\u001b[1mDecision Tree\u001b[0m: \n",
      "\n",
      "Non-Numerical Columns: ['sex', 'race', 'relationship', 'marital-status'] \n",
      "\n",
      "Accuracy: 81.31%\n",
      "\n",
      "Confusion Matrix:\n",
      " [[10896  1539]\n",
      " [ 1504  2342]]\n",
      "\n",
      "Classification Report:\n",
      "\n",
      "               precision    recall  f1-score   support\n",
      "\n",
      "         0.0       0.88      0.88      0.88     12435\n",
      "         1.0       0.60      0.61      0.61      3846\n",
      "\n",
      "    accuracy                           0.81     16281\n",
      "   macro avg       0.74      0.74      0.74     16281\n",
      "weighted avg       0.81      0.81      0.81     16281\n",
      "\n",
      "\n",
      "\n",
      "\u001b[1mRandom Forest\u001b[0m: \n",
      "\n",
      "Non-Numerical Columns: ['sex', 'race', 'relationship', 'marital-status', 'workclass'] \n",
      "\n",
      "Accuracy: 84.42%\n",
      "\n",
      "Confusion Matrix:\n",
      " [[11456   979]\n",
      " [ 1557  2289]]\n",
      "\n",
      "Classification Report:\n",
      "\n",
      "               precision    recall  f1-score   support\n",
      "\n",
      "         0.0       0.88      0.92      0.90     12435\n",
      "         1.0       0.70      0.60      0.64      3846\n",
      "\n",
      "    accuracy                           0.84     16281\n",
      "   macro avg       0.79      0.76      0.77     16281\n",
      "weighted avg       0.84      0.84      0.84     16281\n",
      "\n",
      "\n",
      "\n",
      "\u001b[1mDecision Tree\u001b[0m: \n",
      "\n",
      "Non-Numerical Columns: ['sex', 'race', 'relationship', 'marital-status', 'workclass'] \n",
      "\n",
      "Accuracy: 81.03%\n",
      "\n",
      "Confusion Matrix:\n",
      " [[10879  1556]\n",
      " [ 1533  2313]]\n",
      "\n",
      "Classification Report:\n",
      "\n",
      "               precision    recall  f1-score   support\n",
      "\n",
      "         0.0       0.88      0.87      0.88     12435\n",
      "         1.0       0.60      0.60      0.60      3846\n",
      "\n",
      "    accuracy                           0.81     16281\n",
      "   macro avg       0.74      0.74      0.74     16281\n",
      "weighted avg       0.81      0.81      0.81     16281\n",
      "\n",
      "\n",
      "\n",
      "\u001b[1mRandom Forest\u001b[0m: \n",
      "\n",
      "Non-Numerical Columns: ['sex', 'race', 'relationship', 'marital-status', 'workclass', 'occupation'] \n",
      "\n",
      "Accuracy: 85.39%\n",
      "\n",
      "Confusion Matrix:\n",
      " [[11544   891]\n",
      " [ 1487  2359]]\n",
      "\n",
      "Classification Report:\n",
      "\n",
      "               precision    recall  f1-score   support\n",
      "\n",
      "         0.0       0.89      0.93      0.91     12435\n",
      "         1.0       0.73      0.61      0.66      3846\n",
      "\n",
      "    accuracy                           0.85     16281\n",
      "   macro avg       0.81      0.77      0.79     16281\n",
      "weighted avg       0.85      0.85      0.85     16281\n",
      "\n",
      "\n",
      "\n",
      "\u001b[1mDecision Tree\u001b[0m: \n",
      "\n",
      "Non-Numerical Columns: ['sex', 'race', 'relationship', 'marital-status', 'workclass', 'occupation'] \n",
      "\n",
      "Accuracy: 81.13%\n",
      "\n",
      "Confusion Matrix:\n",
      " [[10822  1613]\n",
      " [ 1460  2386]]\n",
      "\n",
      "Classification Report:\n",
      "\n",
      "               precision    recall  f1-score   support\n",
      "\n",
      "         0.0       0.88      0.87      0.88     12435\n",
      "         1.0       0.60      0.62      0.61      3846\n",
      "\n",
      "    accuracy                           0.81     16281\n",
      "   macro avg       0.74      0.75      0.74     16281\n",
      "weighted avg       0.81      0.81      0.81     16281\n",
      "\n",
      "\n",
      "\n",
      "\u001b[1mRandom Forest\u001b[0m: \n",
      "\n",
      "Non-Numerical Columns: ['sex', 'race', 'relationship', 'marital-status', 'workclass', 'occupation', 'education'] \n",
      "\n",
      "Accuracy: 85.06%\n",
      "\n",
      "Confusion Matrix:\n",
      " [[11506   929]\n",
      " [ 1503  2343]]\n",
      "\n",
      "Classification Report:\n",
      "\n",
      "               precision    recall  f1-score   support\n",
      "\n",
      "         0.0       0.88      0.93      0.90     12435\n",
      "         1.0       0.72      0.61      0.66      3846\n",
      "\n",
      "    accuracy                           0.85     16281\n",
      "   macro avg       0.80      0.77      0.78     16281\n",
      "weighted avg       0.84      0.85      0.85     16281\n",
      "\n",
      "\n",
      "\n",
      "\u001b[1mDecision Tree\u001b[0m: \n",
      "\n",
      "Non-Numerical Columns: ['sex', 'race', 'relationship', 'marital-status', 'workclass', 'occupation', 'education'] \n",
      "\n",
      "Accuracy: 80.93%\n",
      "\n",
      "Confusion Matrix:\n",
      " [[10779  1656]\n",
      " [ 1448  2398]]\n",
      "\n",
      "Classification Report:\n",
      "\n",
      "               precision    recall  f1-score   support\n",
      "\n",
      "         0.0       0.88      0.87      0.87     12435\n",
      "         1.0       0.59      0.62      0.61      3846\n",
      "\n",
      "    accuracy                           0.81     16281\n",
      "   macro avg       0.74      0.75      0.74     16281\n",
      "weighted avg       0.81      0.81      0.81     16281\n",
      "\n",
      "\n",
      "\n",
      "\u001b[1mRandom Forest\u001b[0m: \n",
      "\n",
      "Non-Numerical Columns: ['sex', 'race', 'relationship', 'marital-status', 'workclass', 'occupation', 'education', 'native-country'] \n",
      "\n",
      "Accuracy: 85.05%\n",
      "\n",
      "Confusion Matrix:\n",
      " [[11513   922]\n",
      " [ 1512  2334]]\n",
      "\n",
      "Classification Report:\n",
      "\n",
      "               precision    recall  f1-score   support\n",
      "\n",
      "         0.0       0.88      0.93      0.90     12435\n",
      "         1.0       0.72      0.61      0.66      3846\n",
      "\n",
      "    accuracy                           0.85     16281\n",
      "   macro avg       0.80      0.77      0.78     16281\n",
      "weighted avg       0.84      0.85      0.85     16281\n",
      "\n",
      "\n",
      "\n",
      "\u001b[1mDecision Tree\u001b[0m: \n",
      "\n",
      "Non-Numerical Columns: ['sex', 'race', 'relationship', 'marital-status', 'workclass', 'occupation', 'education', 'native-country'] \n",
      "\n",
      "Accuracy: 81.08%\n",
      "\n",
      "Confusion Matrix:\n",
      " [[10817  1618]\n",
      " [ 1462  2384]]\n",
      "\n",
      "Classification Report:\n",
      "\n",
      "               precision    recall  f1-score   support\n",
      "\n",
      "         0.0       0.88      0.87      0.88     12435\n",
      "         1.0       0.60      0.62      0.61      3846\n",
      "\n",
      "    accuracy                           0.81     16281\n",
      "   macro avg       0.74      0.74      0.74     16281\n",
      "weighted avg       0.81      0.81      0.81     16281\n",
      "\n",
      "\n",
      "\n",
      "\n",
      "\n",
      "\n",
      "---Finishing Report---\n"
     ]
    }
   ],
   "source": [
    "run_model_addcat(df, golden)"
   ]
  },
  {
   "cell_type": "markdown",
   "metadata": {},
   "source": [
    "# 3. Optional: Using gridSearch find the most optimal parameters for your model\n",
    "Warning: this can be computationally intensive and may take some time.\n",
    "- https://scikit-learn.org/stable/modules/generated/sklearn.model_selection.GridSearchCV.html\n",
    "- https://scikit-learn.org/stable/modules/grid_search.html"
   ]
  },
  {
   "cell_type": "code",
   "execution_count": 395,
   "metadata": {},
   "outputs": [
    {
     "data": {
      "text/plain": [
       "GridSearchCV(estimator=RandomForestClassifier(),\n",
       "             param_grid={'criterion': ['gini', 'entropy'],\n",
       "                         'max_depth': [None, 10, 15, 25, 50],\n",
       "                         'n_estimators': [10, 50, 100, 200, 300, 500]})"
      ]
     },
     "execution_count": 395,
     "metadata": {},
     "output_type": "execute_result"
    }
   ],
   "source": [
    "from sklearn.model_selection import GridSearchCV\n",
    "parameters_rf = {\n",
    "    'n_estimators' : [10, 50, 100, 200, 300, 500],\n",
    "    'criterion' : ['gini', 'entropy'],\n",
    "    'max_depth': [None, 10, 15, 25, 50]\n",
    "}\n",
    "rf = RandomForestClassifier()\n",
    "clf = GridSearchCV(rf, parameters_rf)\n",
    "clf.fit(x_train, y_train)"
   ]
  },
  {
   "cell_type": "code",
   "execution_count": 397,
   "metadata": {},
   "outputs": [
    {
     "data": {
      "text/plain": [
       "{'mean_fit_time': array([ 0.26607652,  1.49843245,  3.07443242,  5.42180214,  8.64762654,\n",
       "        14.51657195,  0.14425912,  0.71538653,  1.42572818,  2.84674644,\n",
       "         4.27355132,  7.39134669,  0.19362202,  1.06073928,  2.05134807,\n",
       "         3.65817304,  5.48727622,  9.12941923,  0.24207854,  1.15445013,\n",
       "         2.29742756,  5.3503171 ,  8.94251018, 15.09877682,  0.37479377,\n",
       "         1.72970343,  3.06913753,  6.01469517,  9.01518703, 15.24403338,\n",
       "         0.38510656,  2.0672318 ,  4.09541273,  8.10080194, 13.41103654,\n",
       "        23.85574636,  0.21171923,  0.96369548,  2.60740027,  5.95415359,\n",
       "         8.08663545, 11.94553466,  0.33672209,  1.4965764 ,  3.04027114,\n",
       "         6.44706473,  8.87330565, 15.21995511,  0.34397197,  1.73710818,\n",
       "         3.44171743,  7.7625483 , 11.62421522, 20.41408758,  0.40847578,\n",
       "         2.03247933,  4.49909558,  7.94361548, 13.54872761, 22.33676162]),\n",
       " 'std_fit_time': array([6.75443030e-02, 1.23954929e-01, 2.61542535e-01, 4.46269218e-01,\n",
       "        3.43647564e-01, 8.92577828e-01, 5.53860254e-03, 1.96575079e-02,\n",
       "        2.93837213e-02, 1.40392686e-02, 4.48388137e-02, 4.05256354e-01,\n",
       "        1.58320708e-02, 1.16645855e-01, 1.62370242e-01, 2.93967142e-02,\n",
       "        3.34056994e-02, 2.63363177e-02, 1.36739914e-02, 1.85746992e-02,\n",
       "        1.43904137e-02, 2.52713649e-01, 6.65413520e-01, 7.05152146e-01,\n",
       "        5.49848038e-02, 3.08303539e-01, 1.15612837e-01, 2.49943091e-01,\n",
       "        8.01281693e-02, 1.69074781e-01, 1.84416658e-02, 1.36483168e-01,\n",
       "        2.63284169e-01, 2.73536152e-01, 2.14270172e+00, 2.63310852e+00,\n",
       "        1.26576820e-02, 3.61383343e-02, 4.26649953e-01, 4.96613446e-01,\n",
       "        1.59563853e+00, 1.59897479e+00, 2.08440263e-02, 9.71952274e-02,\n",
       "        2.10912221e-01, 5.81342456e-01, 4.09483788e-01, 1.16687762e+00,\n",
       "        2.47785674e-03, 5.77697638e-02, 7.74454004e-02, 6.94507058e-01,\n",
       "        3.35104615e-01, 1.48757919e+00, 1.34741632e-02, 1.84216461e-01,\n",
       "        4.14596791e-01, 6.41281096e-01, 2.51809170e+00, 3.01951312e+00]),\n",
       " 'mean_score_time': array([0.01962352, 0.09836264, 0.20806046, 0.37410049, 0.5319016 ,\n",
       "        1.02558203, 0.0103703 , 0.04104562, 0.08036871, 0.15942698,\n",
       "        0.23838816, 0.39551568, 0.01358857, 0.06196446, 0.11278629,\n",
       "        0.20237041, 0.30895376, 0.53273554, 0.01722789, 0.07253556,\n",
       "        0.14885025, 0.31497359, 0.54915042, 0.85707278, 0.03570647,\n",
       "        0.10074358, 0.20768161, 0.40445223, 0.58216748, 0.94904275,\n",
       "        0.02137151, 0.0949461 , 0.20518732, 0.37055998, 0.76928658,\n",
       "        0.95595131, 0.01220379, 0.04849496, 0.11816721, 0.25336456,\n",
       "        0.32691298, 0.50702114, 0.02497644, 0.06899943, 0.13270693,\n",
       "        0.29823918, 0.37813659, 0.66077771, 0.01909366, 0.08517518,\n",
       "        0.15417237, 0.32889748, 0.5491363 , 1.02477174, 0.02231531,\n",
       "        0.11787529, 0.22240648, 0.38394308, 0.72043104, 0.99918385]),\n",
       " 'std_score_time': array([0.00433416, 0.00978219, 0.0652977 , 0.07075258, 0.07213458,\n",
       "        0.27274129, 0.00082672, 0.00175432, 0.00161673, 0.00300204,\n",
       "        0.01314208, 0.0108666 , 0.00136289, 0.00635717, 0.01297358,\n",
       "        0.00209548, 0.00362666, 0.01978794, 0.00201604, 0.00306782,\n",
       "        0.01651311, 0.01759621, 0.01759177, 0.05444235, 0.02116327,\n",
       "        0.01209304, 0.03194997, 0.05616422, 0.05988733, 0.04714396,\n",
       "        0.00209167, 0.00604295, 0.03974779, 0.00973101, 0.40152135,\n",
       "        0.12806161, 0.00126395, 0.00419959, 0.02465119, 0.03734734,\n",
       "        0.08113808, 0.06457283, 0.01427815, 0.00385778, 0.00159236,\n",
       "        0.07290611, 0.00964049, 0.05785028, 0.00205581, 0.00815546,\n",
       "        0.00385392, 0.00843533, 0.0310248 , 0.12101545, 0.00192016,\n",
       "        0.02798329, 0.05177499, 0.03710497, 0.16381312, 0.20491679]),\n",
       " 'param_criterion': masked_array(data=['gini', 'gini', 'gini', 'gini', 'gini', 'gini', 'gini',\n",
       "                    'gini', 'gini', 'gini', 'gini', 'gini', 'gini', 'gini',\n",
       "                    'gini', 'gini', 'gini', 'gini', 'gini', 'gini', 'gini',\n",
       "                    'gini', 'gini', 'gini', 'gini', 'gini', 'gini', 'gini',\n",
       "                    'gini', 'gini', 'entropy', 'entropy', 'entropy',\n",
       "                    'entropy', 'entropy', 'entropy', 'entropy', 'entropy',\n",
       "                    'entropy', 'entropy', 'entropy', 'entropy', 'entropy',\n",
       "                    'entropy', 'entropy', 'entropy', 'entropy', 'entropy',\n",
       "                    'entropy', 'entropy', 'entropy', 'entropy', 'entropy',\n",
       "                    'entropy', 'entropy', 'entropy', 'entropy', 'entropy',\n",
       "                    'entropy', 'entropy'],\n",
       "              mask=[False, False, False, False, False, False, False, False,\n",
       "                    False, False, False, False, False, False, False, False,\n",
       "                    False, False, False, False, False, False, False, False,\n",
       "                    False, False, False, False, False, False, False, False,\n",
       "                    False, False, False, False, False, False, False, False,\n",
       "                    False, False, False, False, False, False, False, False,\n",
       "                    False, False, False, False, False, False, False, False,\n",
       "                    False, False, False, False],\n",
       "        fill_value='?',\n",
       "             dtype=object),\n",
       " 'param_max_depth': masked_array(data=[None, None, None, None, None, None, 10, 10, 10, 10, 10,\n",
       "                    10, 15, 15, 15, 15, 15, 15, 25, 25, 25, 25, 25, 25, 50,\n",
       "                    50, 50, 50, 50, 50, None, None, None, None, None, None,\n",
       "                    10, 10, 10, 10, 10, 10, 15, 15, 15, 15, 15, 15, 25, 25,\n",
       "                    25, 25, 25, 25, 50, 50, 50, 50, 50, 50],\n",
       "              mask=[False, False, False, False, False, False, False, False,\n",
       "                    False, False, False, False, False, False, False, False,\n",
       "                    False, False, False, False, False, False, False, False,\n",
       "                    False, False, False, False, False, False, False, False,\n",
       "                    False, False, False, False, False, False, False, False,\n",
       "                    False, False, False, False, False, False, False, False,\n",
       "                    False, False, False, False, False, False, False, False,\n",
       "                    False, False, False, False],\n",
       "        fill_value='?',\n",
       "             dtype=object),\n",
       " 'param_n_estimators': masked_array(data=[10, 50, 100, 200, 300, 500, 10, 50, 100, 200, 300, 500,\n",
       "                    10, 50, 100, 200, 300, 500, 10, 50, 100, 200, 300, 500,\n",
       "                    10, 50, 100, 200, 300, 500, 10, 50, 100, 200, 300, 500,\n",
       "                    10, 50, 100, 200, 300, 500, 10, 50, 100, 200, 300, 500,\n",
       "                    10, 50, 100, 200, 300, 500, 10, 50, 100, 200, 300, 500],\n",
       "              mask=[False, False, False, False, False, False, False, False,\n",
       "                    False, False, False, False, False, False, False, False,\n",
       "                    False, False, False, False, False, False, False, False,\n",
       "                    False, False, False, False, False, False, False, False,\n",
       "                    False, False, False, False, False, False, False, False,\n",
       "                    False, False, False, False, False, False, False, False,\n",
       "                    False, False, False, False, False, False, False, False,\n",
       "                    False, False, False, False],\n",
       "        fill_value='?',\n",
       "             dtype=object),\n",
       " 'params': [{'criterion': 'gini', 'max_depth': None, 'n_estimators': 10},\n",
       "  {'criterion': 'gini', 'max_depth': None, 'n_estimators': 50},\n",
       "  {'criterion': 'gini', 'max_depth': None, 'n_estimators': 100},\n",
       "  {'criterion': 'gini', 'max_depth': None, 'n_estimators': 200},\n",
       "  {'criterion': 'gini', 'max_depth': None, 'n_estimators': 300},\n",
       "  {'criterion': 'gini', 'max_depth': None, 'n_estimators': 500},\n",
       "  {'criterion': 'gini', 'max_depth': 10, 'n_estimators': 10},\n",
       "  {'criterion': 'gini', 'max_depth': 10, 'n_estimators': 50},\n",
       "  {'criterion': 'gini', 'max_depth': 10, 'n_estimators': 100},\n",
       "  {'criterion': 'gini', 'max_depth': 10, 'n_estimators': 200},\n",
       "  {'criterion': 'gini', 'max_depth': 10, 'n_estimators': 300},\n",
       "  {'criterion': 'gini', 'max_depth': 10, 'n_estimators': 500},\n",
       "  {'criterion': 'gini', 'max_depth': 15, 'n_estimators': 10},\n",
       "  {'criterion': 'gini', 'max_depth': 15, 'n_estimators': 50},\n",
       "  {'criterion': 'gini', 'max_depth': 15, 'n_estimators': 100},\n",
       "  {'criterion': 'gini', 'max_depth': 15, 'n_estimators': 200},\n",
       "  {'criterion': 'gini', 'max_depth': 15, 'n_estimators': 300},\n",
       "  {'criterion': 'gini', 'max_depth': 15, 'n_estimators': 500},\n",
       "  {'criterion': 'gini', 'max_depth': 25, 'n_estimators': 10},\n",
       "  {'criterion': 'gini', 'max_depth': 25, 'n_estimators': 50},\n",
       "  {'criterion': 'gini', 'max_depth': 25, 'n_estimators': 100},\n",
       "  {'criterion': 'gini', 'max_depth': 25, 'n_estimators': 200},\n",
       "  {'criterion': 'gini', 'max_depth': 25, 'n_estimators': 300},\n",
       "  {'criterion': 'gini', 'max_depth': 25, 'n_estimators': 500},\n",
       "  {'criterion': 'gini', 'max_depth': 50, 'n_estimators': 10},\n",
       "  {'criterion': 'gini', 'max_depth': 50, 'n_estimators': 50},\n",
       "  {'criterion': 'gini', 'max_depth': 50, 'n_estimators': 100},\n",
       "  {'criterion': 'gini', 'max_depth': 50, 'n_estimators': 200},\n",
       "  {'criterion': 'gini', 'max_depth': 50, 'n_estimators': 300},\n",
       "  {'criterion': 'gini', 'max_depth': 50, 'n_estimators': 500},\n",
       "  {'criterion': 'entropy', 'max_depth': None, 'n_estimators': 10},\n",
       "  {'criterion': 'entropy', 'max_depth': None, 'n_estimators': 50},\n",
       "  {'criterion': 'entropy', 'max_depth': None, 'n_estimators': 100},\n",
       "  {'criterion': 'entropy', 'max_depth': None, 'n_estimators': 200},\n",
       "  {'criterion': 'entropy', 'max_depth': None, 'n_estimators': 300},\n",
       "  {'criterion': 'entropy', 'max_depth': None, 'n_estimators': 500},\n",
       "  {'criterion': 'entropy', 'max_depth': 10, 'n_estimators': 10},\n",
       "  {'criterion': 'entropy', 'max_depth': 10, 'n_estimators': 50},\n",
       "  {'criterion': 'entropy', 'max_depth': 10, 'n_estimators': 100},\n",
       "  {'criterion': 'entropy', 'max_depth': 10, 'n_estimators': 200},\n",
       "  {'criterion': 'entropy', 'max_depth': 10, 'n_estimators': 300},\n",
       "  {'criterion': 'entropy', 'max_depth': 10, 'n_estimators': 500},\n",
       "  {'criterion': 'entropy', 'max_depth': 15, 'n_estimators': 10},\n",
       "  {'criterion': 'entropy', 'max_depth': 15, 'n_estimators': 50},\n",
       "  {'criterion': 'entropy', 'max_depth': 15, 'n_estimators': 100},\n",
       "  {'criterion': 'entropy', 'max_depth': 15, 'n_estimators': 200},\n",
       "  {'criterion': 'entropy', 'max_depth': 15, 'n_estimators': 300},\n",
       "  {'criterion': 'entropy', 'max_depth': 15, 'n_estimators': 500},\n",
       "  {'criterion': 'entropy', 'max_depth': 25, 'n_estimators': 10},\n",
       "  {'criterion': 'entropy', 'max_depth': 25, 'n_estimators': 50},\n",
       "  {'criterion': 'entropy', 'max_depth': 25, 'n_estimators': 100},\n",
       "  {'criterion': 'entropy', 'max_depth': 25, 'n_estimators': 200},\n",
       "  {'criterion': 'entropy', 'max_depth': 25, 'n_estimators': 300},\n",
       "  {'criterion': 'entropy', 'max_depth': 25, 'n_estimators': 500},\n",
       "  {'criterion': 'entropy', 'max_depth': 50, 'n_estimators': 10},\n",
       "  {'criterion': 'entropy', 'max_depth': 50, 'n_estimators': 50},\n",
       "  {'criterion': 'entropy', 'max_depth': 50, 'n_estimators': 100},\n",
       "  {'criterion': 'entropy', 'max_depth': 50, 'n_estimators': 200},\n",
       "  {'criterion': 'entropy', 'max_depth': 50, 'n_estimators': 300},\n",
       "  {'criterion': 'entropy', 'max_depth': 50, 'n_estimators': 500}],\n",
       " 'split0_test_score': array([0.80853677, 0.80377706, 0.80869031, 0.80761554, 0.80608015,\n",
       "        0.80546599, 0.83187471, 0.83387072, 0.83356364, 0.83325656,\n",
       "        0.83387072, 0.83264241, 0.83356364, 0.83279595, 0.83233533,\n",
       "        0.83279595, 0.83264241, 0.83233533, 0.80915093, 0.81621373,\n",
       "        0.81867035, 0.81882389, 0.82128052, 0.81897743, 0.80408414,\n",
       "        0.80454476, 0.80546599, 0.80608015, 0.80730846, 0.80761554,\n",
       "        0.81329648, 0.80976509, 0.80654076, 0.80776908, 0.80485183,\n",
       "        0.80577307, 0.83387072, 0.83356364, 0.8334101 , 0.83356364,\n",
       "        0.83387072, 0.83448488, 0.83448488, 0.83126056, 0.83279595,\n",
       "        0.83371718, 0.83294949, 0.83310302, 0.81682788, 0.82542607,\n",
       "        0.82250883, 0.82389068, 0.82450484, 0.82419776, 0.80761554,\n",
       "        0.80838323, 0.80730846, 0.80577307, 0.80608015, 0.8046983 ]),\n",
       " 'split1_test_score': array([0.8034398 , 0.80036855, 0.7997543 , 0.80052211, 0.79883292,\n",
       "        0.7972973 , 0.83445946, 0.83522727, 0.83568796, 0.83399877,\n",
       "        0.83323096, 0.83369165, 0.83077396, 0.83445946, 0.83507371,\n",
       "        0.83384521, 0.83568796, 0.83507371, 0.80712531, 0.81296069,\n",
       "        0.81434275, 0.81649263, 0.81464988, 0.81572482, 0.80205774,\n",
       "        0.80052211, 0.80113636, 0.79914005, 0.79990786, 0.80082924,\n",
       "        0.80082924, 0.80021499, 0.79914005, 0.7972973 , 0.79545455,\n",
       "        0.7985258 , 0.83246314, 0.83476658, 0.83399877, 0.83338452,\n",
       "        0.83338452, 0.83399877, 0.83261671, 0.83599509, 0.8355344 ,\n",
       "        0.83584152, 0.83476658, 0.83369165, 0.81326781, 0.8161855 ,\n",
       "        0.81879607, 0.81710688, 0.82186732, 0.81879607, 0.80236486,\n",
       "        0.8009828 , 0.7997543 , 0.79668305, 0.79668305, 0.79760442]),\n",
       " 'split2_test_score': array([0.80773956, 0.81388206, 0.81188575, 0.81280713, 0.81342138,\n",
       "        0.81219287, 0.83599509, 0.83707002, 0.83722359, 0.83768428,\n",
       "        0.83691646, 0.83722359, 0.83722359, 0.83845209, 0.83860565,\n",
       "        0.83875921, 0.83937346, 0.83875921, 0.81633907, 0.82493857,\n",
       "        0.82632064, 0.82555283, 0.82708845, 0.82693489, 0.81035012,\n",
       "        0.8125    , 0.81142506, 0.8125    , 0.81449631, 0.81265356,\n",
       "        0.81188575, 0.81280713, 0.81480344, 0.81096437, 0.80850737,\n",
       "        0.81157862, 0.83246314, 0.83476658, 0.83522727, 0.83645577,\n",
       "        0.83630221, 0.83691646, 0.83445946, 0.83707002, 0.83722359,\n",
       "        0.83722359, 0.83737715, 0.83783784, 0.82202088, 0.82754914,\n",
       "        0.8264742 , 0.83000614, 0.82908477, 0.82785627, 0.80850737,\n",
       "        0.81219287, 0.81203931, 0.81050369, 0.81280713, 0.81219287]),\n",
       " 'split3_test_score': array([0.810043  , 0.80850737, 0.80420762, 0.80589681, 0.80589681,\n",
       "        0.80420762, 0.83691646, 0.83845209, 0.84060197, 0.84090909,\n",
       "        0.84014128, 0.84090909, 0.83492015, 0.8379914 , 0.83737715,\n",
       "        0.83722359, 0.83753071, 0.8379914 , 0.81557125, 0.82186732,\n",
       "        0.82094595, 0.82125307, 0.82248157, 0.82217445, 0.81050369,\n",
       "        0.80390049, 0.80574324, 0.80482187, 0.80620393, 0.80497543,\n",
       "        0.807586  , 0.80681818, 0.80482187, 0.80697174, 0.80420762,\n",
       "        0.80497543, 0.83630221, 0.8404484 , 0.8404484 , 0.83983415,\n",
       "        0.83937346, 0.83968059, 0.83323096, 0.83768428, 0.83783784,\n",
       "        0.83737715, 0.83753071, 0.83814496, 0.81864251, 0.82355651,\n",
       "        0.82693489, 0.8264742 , 0.82816339, 0.82632064, 0.80451474,\n",
       "        0.80558968, 0.80789312, 0.80605037, 0.80451474, 0.80528256]),\n",
       " 'split4_test_score': array([0.80727887, 0.80743243, 0.80927518, 0.807586  , 0.80835381,\n",
       "        0.80958231, 0.83369165, 0.83599509, 0.83599509, 0.83522727,\n",
       "        0.83691646, 0.83522727, 0.83323096, 0.83660934, 0.83737715,\n",
       "        0.83630221, 0.83691646, 0.83707002, 0.814957  , 0.82263514,\n",
       "        0.82048526, 0.82386364, 0.82263514, 0.82232801, 0.81065725,\n",
       "        0.80743243, 0.80927518, 0.80988943, 0.80835381, 0.80896806,\n",
       "        0.80651106, 0.80635749, 0.80635749, 0.80912162, 0.80866093,\n",
       "        0.80850737, 0.83522727, 0.8343059 , 0.83538084, 0.83492015,\n",
       "        0.83507371, 0.83492015, 0.83154177, 0.83599509, 0.8355344 ,\n",
       "        0.83660934, 0.83691646, 0.83722359, 0.82263514, 0.82324939,\n",
       "        0.82570639, 0.82632064, 0.82739558, 0.82601351, 0.81142506,\n",
       "        0.80743243, 0.80528256, 0.80835381, 0.80712531, 0.80773956]),\n",
       " 'mean_test_score': array([0.8074076 , 0.8067935 , 0.80676263, 0.80688552, 0.80651701,\n",
       "        0.80574922, 0.83458747, 0.83612304, 0.83661445, 0.83621519,\n",
       "        0.83621518, 0.8359388 , 0.83394246, 0.83606165, 0.8361538 ,\n",
       "        0.83578523, 0.8364302 , 0.83624594, 0.81262871, 0.81972309,\n",
       "        0.82015299, 0.82119721, 0.82162711, 0.82122792, 0.80753059,\n",
       "        0.80577996, 0.80660917, 0.8064863 , 0.80725408, 0.80700837,\n",
       "        0.8080217 , 0.80719257, 0.80633272, 0.80642482, 0.80433646,\n",
       "        0.80587206, 0.8340653 , 0.83557022, 0.83569308, 0.83563165,\n",
       "        0.83560093, 0.83600017, 0.83326675, 0.83560101, 0.83578523,\n",
       "        0.83615376, 0.83590808, 0.83600021, 0.81867884, 0.82319332,\n",
       "        0.82408408, 0.82475971, 0.82620318, 0.82463685, 0.80688552,\n",
       "        0.8069162 , 0.80645555, 0.8054728 , 0.80544207, 0.80550354]),\n",
       " 'std_test_score': array([0.00219502, 0.00456009, 0.00428766, 0.00393852, 0.00470457,\n",
       "        0.00510108, 0.00176542, 0.00156288, 0.00231606, 0.00278686,\n",
       "        0.00248193, 0.00292495, 0.00211711, 0.00214336, 0.00222495,\n",
       "        0.00218542, 0.00223646, 0.00231125, 0.00374776, 0.00443452,\n",
       "        0.00386616, 0.00328177, 0.00400935, 0.00374231, 0.00369852,\n",
       "        0.00401479, 0.00353012, 0.0045749 , 0.0046633 , 0.00395959,\n",
       "        0.00440358, 0.00418725, 0.00501626, 0.00476021, 0.00480142,\n",
       "        0.0043426 , 0.00151826, 0.00247843, 0.00249039, 0.00237372,\n",
       "        0.00214046, 0.00209061, 0.00112301, 0.00226487, 0.00175178,\n",
       "        0.0013329 , 0.00178125, 0.00215391, 0.00345045, 0.0038263 ,\n",
       "        0.00306321, 0.0042947 , 0.00265525, 0.00314333, 0.00315682,\n",
       "        0.00366679, 0.00400637, 0.00471791, 0.0051974 , 0.00475058]),\n",
       " 'rank_test_score': array([39, 46, 47, 44, 49, 56, 21,  8,  1,  4,  5, 12, 23,  9,  6, 14,  2,\n",
       "         3, 36, 34, 33, 32, 30, 31, 38, 55, 48, 50, 40, 42, 37, 41, 53, 52,\n",
       "        60, 54, 22, 20, 16, 17, 19, 11, 24, 18, 14,  7, 13, 10, 35, 29, 28,\n",
       "        26, 25, 27, 44, 43, 51, 58, 59, 57])}"
      ]
     },
     "execution_count": 397,
     "metadata": {},
     "output_type": "execute_result"
    }
   ],
   "source": [
    "clf.cv_results_"
   ]
  },
  {
   "cell_type": "code",
   "execution_count": 399,
   "metadata": {},
   "outputs": [
    {
     "data": {
      "text/plain": [
       "{'criterion': 'gini', 'max_depth': 10, 'n_estimators': 100}"
      ]
     },
     "execution_count": 399,
     "metadata": {},
     "output_type": "execute_result"
    }
   ],
   "source": [
    "clf.best_params_"
   ]
  },
  {
   "cell_type": "code",
   "execution_count": 51,
   "metadata": {},
   "outputs": [],
   "source": [
    "cat_vars = list(df.select_dtypes(include = ['object']).columns)\n",
    "non_num_cols = cat_vars.copy()\n",
    "cat_vars.remove('salary')"
   ]
  },
  {
   "cell_type": "code",
   "execution_count": 52,
   "metadata": {
    "scrolled": false
   },
   "outputs": [],
   "source": [
    "rf = RandomForestClassifier(criterion = 'gini', max_depth = 10, n_estimators = 100)\n",
    "\n",
    "xtrain = pd.concat([df_train.drop(non_num_cols, axis = 1), pd.get_dummies(df[cat_vars])], axis = 1)\n",
    "# xtrain = xtrain.drop('native-country_ Holand-Netherlands', axis = 1)\n",
    "xtest = pd.concat([df_test.drop(non_num_cols, axis = 1), pd.get_dummies(golden[cat_vars])], axis = 1)\n",
    "diff_cols = set(xtrain.columns) - set(xtest.columns)\n",
    "diff_df = pd.DataFrame(np.zeros((xtest.shape[0], 1)), columns = diff_cols)\n",
    "xtest = pd.concat([xtest, diff_df], axis = 1)\n",
    "xtest = xtest[xtrain.columns]\n",
    "\n",
    "ytrain = df[['salary']]\n",
    "ytrain = enc.fit_transform(ytrain).ravel()\n",
    "ytest = golden[['salary']]\n",
    "ytest = enc.fit_transform(ytest).ravel()\n",
    "\n",
    "rf.fit(xtrain, ytrain)\n",
    "pred = rf.predict(xtest)\n",
    "\n",
    "accs = get_accuracies(ytest, pred)"
   ]
  },
  {
   "cell_type": "code",
   "execution_count": 54,
   "metadata": {},
   "outputs": [
    {
     "name": "stdout",
     "output_type": "stream",
     "text": [
      "\u001b[1mRandom Forest\u001b[0m: \n",
      "\n",
      "Accuracy: 85.81%\n",
      "\n",
      "Confusion Matrix:\n",
      " [[11888   547]\n",
      " [ 1763  2083]]\n",
      "\n",
      "Classification Report:\n",
      "\n",
      "               precision    recall  f1-score   support\n",
      "\n",
      "         0.0       0.87      0.96      0.91     12435\n",
      "         1.0       0.79      0.54      0.64      3846\n",
      "\n",
      "    accuracy                           0.86     16281\n",
      "   macro avg       0.83      0.75      0.78     16281\n",
      "weighted avg       0.85      0.86      0.85     16281\n",
      "\n",
      "\n",
      "\n"
     ]
    }
   ],
   "source": [
    "print(f\"\\033[1m{'Random Forest'}\\033[0m: \\n\\nAccuracy: {accs[0] * 100:.2f}%\\n\\nConfusion Matrix:\\n {accs[1]}\\n\\nClassification Report:\\n\\n {accs[2]}\\n\\n\")"
   ]
  },
  {
   "cell_type": "code",
   "execution_count": null,
   "metadata": {},
   "outputs": [],
   "source": []
  }
 ],
 "metadata": {
  "kernelspec": {
   "display_name": "Python 3 (ipykernel)",
   "language": "python",
   "name": "python3"
  },
  "language_info": {
   "codemirror_mode": {
    "name": "ipython",
    "version": 3
   },
   "file_extension": ".py",
   "mimetype": "text/x-python",
   "name": "python",
   "nbconvert_exporter": "python",
   "pygments_lexer": "ipython3",
   "version": "3.7.6"
  }
 },
 "nbformat": 4,
 "nbformat_minor": 2
}
